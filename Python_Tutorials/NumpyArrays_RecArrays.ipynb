{
 "cells": [
  {
   "cell_type": "markdown",
   "metadata": {},
   "source": [
    "## HWRS 582 Tutorial - Numpy arrays and rec.arrays\n",
    "\n",
    "### Prepared by Rachel Spinti and Vivek Grewal\n"
   ]
  },
  {
   "cell_type": "markdown",
   "metadata": {},
   "source": [
    "## Arrays\n",
    "### 1. What is a numpy array?\n",
    "\n",
    "Numpy arrays are a type of data structure which at its simplest can be understood as a grid of  similar elements. The library 'NumPy' itself primarily concerns itself with arrays and its manipulation. It is also sometimes called *'ndarray'* or N-dimensional array. An example of a two-dimensional numpy array is as follows: "
   ]
  },
  {
   "cell_type": "code",
   "execution_count": 1,
   "metadata": {},
   "outputs": [
    {
     "name": "stdout",
     "output_type": "stream",
     "text": [
      "[[1 2 3]\n",
      " [4 5 6]]\n"
     ]
    }
   ],
   "source": [
    "import numpy as np\n",
    "a = np.array([(1,2,3), (4,5,6)])\n",
    "print(a)"
   ]
  },
  {
   "cell_type": "markdown",
   "metadata": {},
   "source": [
    "The Array function has the following constructor or form: \n",
    "\n",
    "*numpy.array(object, dtype=None, copy=True, order='K', subok=False, ndmin=0)*. \n",
    "\n",
    "It is notable that a square bracket is required while defining an array to denote the 'object' itself, as a list. 'dtype' is used to assign the desired data type of array (optional). 'ndim' specifies minimum dimensions of resultant array. \n",
    "\n",
    "Some other ways to make arrays:"
   ]
  },
  {
   "cell_type": "code",
   "execution_count": 2,
   "metadata": {},
   "outputs": [
    {
     "name": "stdout",
     "output_type": "stream",
     "text": [
      "b = [  0   0   1   4   7  16  31  64 127]\n",
      "c = [ 0.  5. 10.]\n",
      "d = [0 3 6 9]\n"
     ]
    }
   ],
   "source": [
    "#Convert list 'a' to array'b'\n",
    "a = [0, 0, 1, 4, 7, 16, 31, 64, 127]\n",
    "b = np.array(a)\n",
    "print(\"b =\", b)\n",
    "\n",
    "#Using linspace finction; note that np.array not required\n",
    "c = np.linspace(0, 10, 3)\n",
    "print(\"c =\", c)\n",
    "\n",
    "#Using arange finction\n",
    "d = np.arange(0, 10, 3)\n",
    "print(\"d =\", d)"
   ]
  },
  {
   "cell_type": "markdown",
   "metadata": {},
   "source": [
    "### 2. How is it different from a Python list?\n",
    "Arrays can be  great alternatives to Python Lists. Arrays and lists are both used to store data, they both can be used to store any data type (real numbers, strings, etc), and they both can be indexed and iterated. However, Numpy arrays have some **key functionalities over lists**:\n",
    "- *Convenient* - For instance, adding of list elements would require a 'for' loop, while a simple A+B command adds the two arrays element-wise. Arrays are fundamentally created to be treated as matrices therefore are great for matrix operations which are common for groundwater modeling too. \n",
    "- *Fast* - Array are reportedly processed around 3-4 times faster than lists.\n",
    "- *Uses less memory* - For instance, a list of 1000 integers takes up 14000 bytes and an array of same elements takes up only 4000 bytes.  \n",
    "\n",
    "**Differences between lists and arrays:**\n",
    "1. *The elements of a NumPy array must all be of the same type*, whereas the elements of a Python list can be of completely different types.\n",
    "2. *NumPy arrays support “vectorized” operations* like element-by-element addition and multiplication. This is made possible, in part, by the fact that all elements of the array have the same type, which allows array operations like element-by-element addition and multiplication to be carried out by very efficient C loops. \n",
    "3. *Adding one or more additional elements to a NumPy array creates a new array and destroys the old one*. Therefore it can be very inefficient to build up large arrays by appending elements one by one, especially if the array is very large, because you repeatedly create and destroy large arrays. By contrast, elements can be added to a list without creating a whole new list. If you need to build an array element by element, it is usually better to build it as a list, and then convert it to an array when the list is complete. \n",
    "\n",
    "It does take an extra step to use arrays because they have to be declared while lists don't because they are part of Python's syntax. But *if one plans to do any mathematical operation, arrays are definitely preffered*."
   ]
  },
  {
   "cell_type": "markdown",
   "metadata": {},
   "source": [
    "### 3. What are the attributes of an array?\n",
    "\n",
    "Following commands may be used to find the attributes of an array and know basics about the data in the array:"
   ]
  },
  {
   "cell_type": "code",
   "execution_count": 3,
   "metadata": {},
   "outputs": [
    {
     "name": "stdout",
     "output_type": "stream",
     "text": [
      "dimensions = 2\n",
      "datatype = int32\n",
      "size = 6\n",
      "shape = (2, 3)\n"
     ]
    }
   ],
   "source": [
    "a = np.array([(1,2,3), (4,5,6)])\n",
    "\n",
    "#Dimensions of an array\n",
    "print(\"dimensions =\" , a.ndim)\n",
    "\n",
    "#Datatype of an array\n",
    "print(\"datatype =\" , a.dtype)\n",
    "\n",
    "#Dimensions of an array\n",
    "print(\"size =\" , a.size)\n",
    "\n",
    "#Dimensions of an array\n",
    "print(\"shape =\" , a.shape)\n"
   ]
  },
  {
   "cell_type": "markdown",
   "metadata": {},
   "source": [
    "### 4. How can an array be manipulated? \n",
    "The following mathematical operations can be performed to change the contents of the arrays:"
   ]
  },
  {
   "cell_type": "code",
   "execution_count": 4,
   "metadata": {},
   "outputs": [
    {
     "name": "stdout",
     "output_type": "stream",
     "text": [
      "[[ 2  4  6]\n",
      " [ 8 10 12]]\n",
      "[[0 0 0]\n",
      " [0 0 0]]\n",
      "[[ 5 10 15]\n",
      " [20 25 30]]\n",
      "[[ 1  4  9]\n",
      " [16 25 36]]\n",
      "Summation over o'th axis [5 7 9]\n",
      "Summation over 1st axis [ 6 15]\n",
      "Minimum value = 1\n",
      "Maximum value = 6\n",
      "Sum = 21\n",
      "[[1 2]\n",
      " [3 4]\n",
      " [5 6]]\n",
      "square root = [[1.         1.41421356 1.73205081]\n",
      " [2.         2.23606798 2.44948974]]\n",
      "[[1 2 3]\n",
      " [4 5 6]\n",
      " [1 2 3]\n",
      " [4 5 6]]\n",
      "[[1 2 3 1 2 3]\n",
      " [4 5 6 4 5 6]]\n",
      "[[1 2 3]\n",
      " [4 5 6]\n",
      " [1 2 3]\n",
      " [4 5 6]]\n",
      "[1 2 3] [99 99] [3 2 1]\n"
     ]
    }
   ],
   "source": [
    "a = np.array([(1,2,3), (4,5,6)])\n",
    "b = np.array([(1,2,3), (4,5,6)])\n",
    "\n",
    "#Summation\n",
    "c= a+b\n",
    "print(c)\n",
    "\n",
    "#Subtraction\n",
    "d=a-b\n",
    "print(d) \n",
    "\n",
    "#Scalar Multiplication\n",
    "d=5*a\n",
    "print(d)\n",
    "\n",
    "#Matrix Multiplication\n",
    "e=a*b\n",
    "print(e)\n",
    "\n",
    "#OTHER MATHEMATICAL OPERATIONS:\n",
    "\n",
    "#Summation over different axes\n",
    "print(\"Summation over o'th axis\" , a.sum(axis=0))\n",
    "print(\"Summation over 1st axis\" , a.sum(axis=1))\n",
    "\n",
    "#Minimum value in an array; additional () required in the function\n",
    "print(\"Minimum value =\" , a.min())\n",
    "\n",
    "#Maximum value in an array\n",
    "print(\"Maximum value =\" , a.max())\n",
    "\n",
    "#Summation of data in the array\n",
    "print(\"Sum =\" , a.sum())\n",
    "\n",
    "#Reshaping an array\n",
    "x = np.array([(1,2,3), (4,5,6)])\n",
    "print(a.reshape(3,2))\n",
    "\n",
    "#Square-root of the elements (Need to add array name inside)\n",
    "print(\"square root =\" , np.sqrt(a))\n",
    "\n",
    "#Stacking (Extra bracket needed)\n",
    "print(np.vstack((a,b)))\n",
    "print(np.hstack((a,b)))\n",
    "\n",
    "#Concatination (Extra bracket needed)\n",
    "print(np.concatenate((a,b)))\n",
    "\n",
    "#Splitting an array\n",
    "x = [1, 2, 3, 99, 99, 3, 2, 1]\n",
    "x1, x2, x3 = np.split(x, [3, 5])\n",
    "print(x1, x2, x3)"
   ]
  },
  {
   "cell_type": "markdown",
   "metadata": {},
   "source": [
    "### 5. How can the contents of an array be accessed\n",
    "\n",
    "Following activity accesses different elements of arrays and manipulates them:"
   ]
  },
  {
   "cell_type": "code",
   "execution_count": 5,
   "metadata": {},
   "outputs": [
    {
     "name": "stdout",
     "output_type": "stream",
     "text": [
      "1.3\n",
      "[ 1.3  5.  10.9 18.9 28.7 40. ]\n",
      "[ 0.   1.3  5.  10.9 18.9 28.7 40. ]\n",
      "[ 0.   1.3  5.  10.9 18.9 28.7]\n",
      "[ 2.65306122  7.25490196 11.8        13.79310345 20.85106383 17.38461538]\n"
     ]
    }
   ],
   "source": [
    "#Lets define x as position and t as time of a particle and find velocity\n",
    "x = np.array([ 0. , 1.3,  5. , 10.9, 18.9, 28.7, 40. ])\n",
    "t = np.array([ 0. , 0.49, 1. , 1.5 , 2.08, 2.55, 3.2 ])\n",
    "\n",
    "#Accessing a particular element\n",
    "print(x[1])\n",
    "\n",
    "#Accessing elements after a point\n",
    "print(x[1:])\n",
    "\n",
    "#Velocity = (x2-x1)/(t2-t1)\n",
    "print(x[0:]) #but this would create 7 elements and arrays won't subtract, therefore: \n",
    "print(x[:-1]) #equal to previous one\n",
    "\n",
    "\n",
    "v = ((x[1:]-x[:-1])/(t[1:]-t[:-1]))\n",
    "print(v)"
   ]
  },
  {
   "cell_type": "markdown",
   "metadata": {},
   "source": [
    "### 6. How can the contents of an array be written out or plotted?"
   ]
  },
  {
   "cell_type": "code",
   "execution_count": 12,
   "metadata": {},
   "outputs": [
    {
     "data": {
      "image/png": "[encoded data removed]",
      "text/plain": [
       "<Figure size 432x288 with 1 Axes>"
      ]
     },
     "metadata": {
      "needs_background": "light"
     },
     "output_type": "display_data"
    }
   ],
   "source": [
    "#To write out an array to a .csv\n",
    "np.savetxt(\"write.csv\", a, delimiter=\",\")\n",
    "\n",
    "#To plot an array\n",
    "import matplotlib.pyplot as plt\n",
    "x = np.arange(0,3*np.pi, 0.1)\n",
    "y = np.sin(x)\n",
    "plt.plot(x,y) #plot the graph using plt\n",
    "plt.show() #show the graph using plt "
   ]
  },
  {
   "cell_type": "markdown",
   "metadata": {},
   "source": [
    "# rec.arrays\n",
    "\n",
    "### 7. What is a rec.array and how to convert an array to a rec.array?\n",
    "Record arrays or rec.arrays are a type of structured array of the subclass ndarray, which are efficient ways to store compound, heterogenous data. rec.arrays allow fields to be accessed as members of the array, using arr.x and arr.y. In comparison, array attributes of the form [(x, int), (y, float)] are accessed using dictionary lookups such as arr['x'] and arr['y']. rec.arrays just simplify the syntax, but are not necessarily computationally faster (see Reference 8)."
   ]
  },
  {
   "cell_type": "code",
   "execution_count": 7,
   "metadata": {},
   "outputs": [
    {
     "name": "stdout",
     "output_type": "stream",
     "text": [
      "[(1., 2) (3., 4)]\n",
      "[1. 3.]\n",
      "[1. 3.]\n",
      "[2 4]\n"
     ]
    }
   ],
   "source": [
    "#Create a structured array with indices named x and y which are floats and indices respectively\n",
    "a = np.array([(1.0, 2), (3.0, 4)], dtype=[('x', '<f8'), ('y', '<i8')])  \n",
    "print(a)\n",
    "\n",
    "#View data in array\n",
    "print(a['x'])  #dictionary lookup\n",
    "\n",
    "\n",
    "#View as rec.array\n",
    "a = a.view(np.recarray)   #Construct an ndarray that allows field access using attributes.\n",
    "\n",
    "print(a.x)\n",
    "print(a.y)"
   ]
  },
  {
   "cell_type": "markdown",
   "metadata": {},
   "source": [
    "The formatting of np.array is as follows (Reference 10):\n",
    "\n",
    "*numpy.recarray(shape, dtype, formats, names, buf)*, where\n",
    "\n",
    "shape : Shape of output array(tuple).\n",
    "\n",
    "dtype* : The desired data-type. By default, the data-type is determined from formats, names, titles, aligned and byteorder.\n",
    "\n",
    "formats* : A list containing the data-types for the different columns, e.g. ['i4', 'f8', 'i4']. formats does not support the new convention of using types directly, i.e. (int, float, int). Note that formats must be a list, not a tuple. Given that formats is somewhat limited, we recommend specifying dtype instead.\n",
    "\n",
    "names* : The name of each column, e.g. ('x', 'y', 'z').\n",
    "\n",
    "buf* : By default, a new array is created of the given shape and data-type. If buf is specified and is an object exposing the buffer interface, the array will use the memory from the existing buffer. In this case, the offset and strides keywords are available.\n",
    "\n",
    "*these are optional parameters"
   ]
  },
  {
   "cell_type": "markdown",
   "metadata": {},
   "source": [
    "### 8. Accessing the attributes of a rec.array\n",
    "\n",
    "One of the primary utilities of rec.arrays is the ease with which its atributes can be selected, to make the coding more consise. After accessing the data, it can be manipulated as a normal array (described in earlier sections). Following code provides the syntax for the same (Reference 9):"
   ]
  },
  {
   "cell_type": "code",
   "execution_count": 8,
   "metadata": {},
   "outputs": [
    {
     "name": "stdout",
     "output_type": "stream",
     "text": [
      "[1 2 3]\n",
      "[(2, 88., b'Pete')]\n",
      "[88.]\n",
      "[2]\n",
      "b'Sarah'\n"
     ]
    }
   ],
   "source": [
    "results = np.rec.array([(1, 92., 'Alex'), (2, 88., \"Pete\"), (3, 83., \"Sarah\")],\n",
    "                   dtype=[('rank', 'i4'),('score', 'f4'), ('name', 'S10')])\n",
    "print(results.rank) #select rank values\n",
    "\n",
    "print(results[1:2]) #select from second array and stop at third\n",
    "\n",
    "print(results[1:2].score)  #select only score from second array\n",
    "\n",
    "print(results.rank[1:2])   #different format, but selecting only rank\n",
    "\n",
    "print(results[2].name)   #select name from third array"
   ]
  },
  {
   "cell_type": "markdown",
   "metadata": {},
   "source": [
    "### 9. Some examples of use of rec.arrays"
   ]
  },
  {
   "cell_type": "markdown",
   "metadata": {},
   "source": [
    "1. Basic commands (Reference 9)"
   ]
  },
  {
   "cell_type": "code",
   "execution_count": 9,
   "metadata": {},
   "outputs": [
    {
     "name": "stdout",
     "output_type": "stream",
     "text": [
      "[(1, 2., b'Hello') (2, 3., b'World')]\n",
      "[(1, 2., b'Hello') (2, 3., b'World')]\n"
     ]
    }
   ],
   "source": [
    "#Option 1: np.rec.array\n",
    "#Create an array\n",
    "recordarr = np.rec.array([(1, 2., 'Hello'), (2, 3., \"World\")],dtype=[('foo', 'i4'),('bar', 'f4'), ('baz', 'S10')])\n",
    "print(recordarr)\n",
    "\n",
    "#Option 2: np.rec.array\n",
    "## record array representation of a structured array \n",
    "arr = np.array([(1, 2., 'Hello'), (2, 3., \"World\")],\n",
    "               dtype=[('foo', 'i4'),('bar', 'f4'), ('baz', 'a10')])\n",
    "recordarr = arr.view(dtype=np.dtype((np.record, arr.dtype)),\n",
    "                     type=np.recarray)\n",
    "print(recordarr)\n",
    "\n"
   ]
  },
  {
   "cell_type": "markdown",
   "metadata": {},
   "source": [
    "2. numpy.recarray.all() method (Reference 11)\n",
    "    - Returns TRUE if all values evaluate as TRUE\n",
    "    - Format: numpy.recarray.all(axis=None, out=None, keepdims=False)\n",
    "    - Viewing an ndarray as type np.recarray will automatically convert to np.record datatype, so the dtype can be left out of the view"
   ]
  },
  {
   "cell_type": "code",
   "execution_count": 10,
   "metadata": {},
   "outputs": [
    {
     "name": "stdout",
     "output_type": "stream",
     "text": [
      "Input array :  [(5., 2) (3., 4)]\n",
      "Record array of float:  [5. 3.]\n",
      "Record array of int:  [2 4]\n",
      "Output array:  True\n",
      "Output array:  True\n"
     ]
    }
   ],
   "source": [
    "import numpy as np  #importing numpy as np \n",
    "  \n",
    "#creating input array with 2 different fields  \n",
    "in_arr = np.array([(5.0, 2), (3.0, 4)], \n",
    "         dtype =[('a', float), ('b', int)]) \n",
    "print (\"Input array : \", in_arr) \n",
    "   \n",
    "#convert it to a record array, using arr.view(np.recarray) \n",
    "rec_arr = in_arr.view(np.recarray) \n",
    "print(\"Record array of float: \", rec_arr.a) \n",
    "print(\"Record array of int: \", rec_arr.b) \n",
    "  \n",
    "#applying recarray.all methods to float record array \n",
    "out_arr = np.recarray.all(rec_arr.a) \n",
    "print (\"Output array: \", out_arr)  \n",
    "  \n",
    "#applying recarray.all methods to int record array \n",
    "out_arr = np.recarray.all(rec_arr.b) \n",
    "print (\"Output array: \", out_arr)"
   ]
  },
  {
   "cell_type": "markdown",
   "metadata": {},
   "source": [
    "3. From HW #3 (Recharge Self Check) "
   ]
  },
  {
   "cell_type": "code",
   "execution_count": 11,
   "metadata": {},
   "outputs": [
    {
     "name": "stdout",
     "output_type": "stream",
     "text": [
      "flopy is installed in C:\\Users\\vivek\\Anaconda3\\lib\\site-packages\\flopy\n",
      "Accessing a column\n",
      "[  0   1   2   3   4   5   6   7   8   9  10  11  12  13  14  15  16  17\n",
      "  18  19  20  21  22  23  24  25  26  27  28  29  30  31  32  33  34  35\n",
      "  36  37  38  39  40  41  42  43  44  45  46  47  48  49  50  51  52  53\n",
      "  54  55  56  57  58  59  60  61  62  63  64  65  66  67  68  69  70  71\n",
      "  72  73  74  75  76  77  78  79  80  81  82  83  84  85  86  87  88  89\n",
      "  90  91  92  93  94  95  96  97  98  99 100 101 102 103 104 105 106 107\n",
      " 108 109 110 111 112 113 114 115 116 117 118 119 120 121 122 123 124 125\n",
      " 126 127 128 129 130 131 132 133 134 135 136 137 138 139 140 141 142 143\n",
      " 144 145 146 147 148 149 150 151 152 153 154 155 156 157 158 159 160 161\n",
      " 162 163 164 165 166 167 168 169 170 171 172 173 174 175 176 177 178 179\n",
      " 180 181 182 183 184 185 186 187 188 189 190 191 192 193 194 195 196 197\n",
      " 198 199 200 201 202 203 204 205 206 207 208 209 210 211 212 213 214 215\n",
      " 216 217 218 219 220 221 222 223 224 225 226 227 228 229 230 231 232 233\n",
      " 234 235 236 237 238 239 240 241 242 243 244 245 246 247 248 249 250 251\n",
      " 252 253 254 255 256 257 258 259 260 261 262 263 264 265 266 267 268 269\n",
      " 270 271 272 273 274 275 276 277 278 279 280 281 282 283 284 285 286 287\n",
      " 288 289 290 291 292 293 294 295 296 297 298 299 300 301 302 303 304 305\n",
      " 306 307 308 309 310 311 312 313 314 315 316 317 318 319 320 321 322 323\n",
      " 324 325 326 327 328 329 330 331 332 333 334 335 336 337 338 339 340 341\n",
      " 342 343 344 345 346 347 348 349 350 351 352 353 354 355 356 357 358 359\n",
      " 360 361 362 363 364 365 366 367 368 369 370 371 372 373 374 375 376 377\n",
      " 378 379 380 381 382 383 384 385 386 387 388 389 390 391 392 393 394 395\n",
      " 396 397 398 399 400 401 402 403 404 405 406 407 408 409 410 411 412 413\n",
      " 414 415 416 417 418 419 420 421 422 423 424 425 426 427 428 429 430 431\n",
      " 432 433 434 435 436 437 438 439 440 441 442 443 444 445 446 447 448 449\n",
      " 450 451 452 453 454 455 456 457 458 459 460 461 462 463 464 465 466 467\n",
      " 468 469 470 471 472 473 474 475 476 477 478 479 480 481 482 483 484 485\n",
      " 486 487 488 489 490 491 492 493 494 495 496 497 498 499 500 501 502 503\n",
      " 504 505 506 507 508 509 510 511 512 513 514 515 516 517 518 519 520 521\n",
      " 522 523 524 525 526 527 528 529 530 531 532 533 534 535 536 537 538 539\n",
      " 540 541 542 543 544 545 546 547 548 549 550 551 552 553 554 555 556 557\n",
      " 558 559 560 561 562 563 564 565 566 567 568 569 570 571 572 573 574 575\n",
      " 576 577 578 579 580 581 582 583 584 585 586 587 588 589 590 591 592 593\n",
      " 594 595 596 597 598 599 600 601 602 603 604 605 606 607 608 609 610 611\n",
      " 612 613 614 615 616 617 618 619 620 621 622 623 624]\n",
      "Access a row\n",
      "(1, 0, 1, 5, 0., 10565.805, 1, 0, 0.5, 0.5, 0.5, 150., 2450., 3.5847018, 0, 0, 0, 0, 1., 0.4999996, 0.5, 100., 2450., 3.5, 0, 2)\n"
     ]
    }
   ],
   "source": [
    "import flopy\n",
    "import numpy as np\n",
    "import matplotlib as mp\n",
    "import os\n",
    "import matplotlib.pyplot as plt\n",
    "\n",
    "#jupyter specific--included to show plots in notebook\n",
    "%matplotlib inline \n",
    "\n",
    "modelname = \"RechargeModel_Check\"\n",
    "moddir=\"/Applications/MODFLOW/mf2005\"\n",
    "m = flopy.modflow.Modflow(modelname, exe_name = moddir)\n",
    "#moddir = os.getcwd()+\"\\\\modflowdir\\\\mf2005.exe\"\n",
    "moddirmp=\"/Applications/MODFLOW/mp7\"\n",
    "\n",
    "# create basic forward tracking modpath simulation\n",
    "mpname=os.path.join(modelname + '_mp')\n",
    "\n",
    "#load in the flow path file\n",
    "fpth = os.path.join(mpname + '.mppth')\n",
    "p = flopy.utils.PathlineFile(fpth)\n",
    "\n",
    "#load in the end point file\n",
    "fpth = os.path.join(mpname + '.mpend')\n",
    "e = flopy.utils.EndpointFile(fpth, verbose=False)\n",
    "\n",
    "#make a subset which is all the particles\n",
    "pall = p.get_alldata()  #formerly pwb and ewb\n",
    "eall = e.get_alldata()\n",
    "\n",
    "#Grabbing some info about particles\n",
    "#type(eall)    # check the data type of eall \n",
    "#print(eall.dtype) #print out all the columns and their data types\n",
    "#print('Here is a list of variable names')\n",
    "#print(eall.dtype.names)  #print out just the names\n",
    "\n",
    "#Access a column of data with rec.array \n",
    "print('Accessing a column')\n",
    "data_eall=eall.view(np.recarray)  #use view(np.recarray) to view array as recarray and select column\n",
    "print(data_eall.particleid)       #print selection\n",
    "\n",
    "#Access a row of data with rec.array defined \n",
    "print('Access a row')    \n",
    "print(data_eall[1])      #select row "
   ]
  },
  {
   "cell_type": "markdown",
   "metadata": {},
   "source": [
    "## References:\n",
    "### For arrays:\n",
    "1. https://jakevdp.github.io/PythonDataScienceHandbook/02.02-the-basics-of-numpy-arrays.html\n",
    "2. https://physics.nyu.edu/pine/pymanual/html/chap3/chap3_arrays.html\n",
    "3. http://cs231n.github.io/python-numpy-tutorial/\n",
    "4. https://docs.python.org/3/library/array.html#array.array\n",
    "5. https://docs.scipy.org/doc/numpy/user/quickstart.html\n",
    "6. https://www.tutorialspoint.com/numpy/numpy_ndarray_object.htm\n",
    "7. https://docs.scipy.org/doc/numpy/reference/generated/numpy.array.html\n",
    "8. https://www.learnpython.org/en/Numpy_Arrays\n",
    " \n",
    "### For rec.arrays:\n",
    "\n",
    "8. https://jakevdp.github.io/PythonDataScienceHandbook/02.09-structured-data-numpy.html\n",
    "9. https://docs.scipy.org/doc/numpy/user/basics.rec.html\n",
    "10. https://docs.scipy.org/doc/numpy/reference/generated/numpy.recarray.html#numpy.recarray\n",
    "11. https://www.geeksforgeeks.org/numpy-recarray-all-function-python/"
   ]
  },
  {
   "cell_type": "code",
   "execution_count": null,
   "metadata": {},
   "outputs": [],
   "source": []
  }
 ],
 "metadata": {
  "kernelspec": {
   "display_name": "Python 3",
   "language": "python",
   "name": "python3"
  },
  "language_info": {
   "codemirror_mode": {
    "name": "ipython",
    "version": 3
   },
   "file_extension": ".py",
   "mimetype": "text/x-python",
   "name": "python",
   "nbconvert_exporter": "python",
   "pygments_lexer": "ipython3",
   "version": "3.7.4"
  }
 },
 "nbformat": 4,
 "nbformat_minor": 4
}
