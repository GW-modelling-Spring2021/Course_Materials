{
 "cells": [
  {
   "cell_type": "markdown",
   "metadata": {},
   "source": [
    "# hw6-FloPy-DataTypeExample\n",
    "## By `Benjamin Mitchell`, `Dave Murray`, `Tesfa Gebremeskel`\n"
   ]
  },
  {
   "cell_type": "markdown",
   "metadata": {},
   "source": [
    "# 1. Starting Summery\n",
    "\n",
    "**What is FloPy?** It is an system of python code to directly interface with and read the files produced by MODFLOW.  These files include: `.bas`, `.cbc`, `.ddn`, `.dis`, `.hds`, `.list`, `.lpf`, `.nam`, `.oc`, `.pcg`.  The full names of these file types are ***Basic Package Input; cell-by-cell budget; Drawdown File Type; Discretization File; Heads Output; List of Outputs; Layer-Property Flow package; MODFLOW Name File; Output Control Option; Preconditioned Conjugate-Gradient Package***, respectively.\n",
    "\n",
    "**Some of these file types created are easily traced back to the inputs we gave to MODFLOW:**\n",
    "   - dis = flopy.modflow.ModflowDis(...) - results in a `.dis` file\n",
    "   - bas = flopy.modflow.ModflowBas(...) - results in a `.bas` file \n",
    "   - lpf = flopy.modflow.ModflowLpf(...) - results in a `.lpf` file\n",
    "   - oc =  flopy.modflow.ModflowOc(...)  - results in a `.oc` file\n",
    "   - pcg = flopy.modflow.ModflowPcg(...) - results in a `.pcg` file\n",
    "   - ect.\n",
    "\n",
    "Along with some other inputs, the five inputs above are needed for the most basic of MODFLOW analysis.  Here is the boil down for these files.  The `.dis` defines your model's domain.  The `.bas` file defines boundaries for your model's domain (no flow, constant head, ect.).  The `.lpf` file defines the properties of your model, stuff like vertical and horizontal hydraulic conductivity.  The `.oc` are for dealing with writing outputs and `.pcg` is a package that helps write properties to the model's domain along with other inputs.\n",
    "\n",
    "Some of the outputs files worth mentioning would be `.hds` and `.cbc`.  The `.hds` file is the resulting heads of running your MODFLOW model and the `.cbc` file contains the cell-by-cell water budget that was solved to get the final heads found in the `.hds` file.  These file types are specific to flopy and are read by flopy commands.  These are the file types we will be focusing on today and are explained in greater detail, with examples, later in this notebook."
   ]
  },
  {
   "cell_type": "markdown",
   "metadata": {},
   "source": [
    "# 2. Helpful Links/Videos\n",
    "\n",
    "- Webpage Links:\n",
    "    - http://modflowpy.github.io/flopydoc/\n",
    "    - https://modflowpy.github.io/flopydoc/code.html#base-classes\n",
    "    - [utility modules](https://modflowpy.github.io/flopydoc/binaryfile.html)\n",
    "    - https://github.com/modflowpy/flopy#citation-for-flopy\n",
    "\n",
    "- Video Links:\n",
    "    - [Using MODFLOW in Python with FloPy](https://www.youtube.com/watch?v=kqEDaLR9rB0) (youtube)\n",
    "    - [Using MODFLOW in Python with FloPy and GDAL](https://www.youtube.com/watch?v=dxF_6bQnq7g) (youtube)\n",
    "\n",
    "\n",
    "# 3. Cheat Sheet Links from all HW's"
   ]
  },
  {
   "cell_type": "markdown",
   "metadata": {},
   "source": [
    "## Different types of FloPy seen through HW's 1-5:\n",
    "- [(Import)flopy.utils.binaryfile](https://modflowpy.github.io/flopydoc/binaryfile.html)\n",
    "- [flopy.modflow.Modflow(...)](https://modflowpy.github.io/flopydoc/mf.html)\n",
    "- [flopy.modflow.ModflowDis(...)](https://modflowpy.github.io/flopydoc/mfdis.html)\n",
    "- [flopy.plot.PlotMapView(...)](https://modflowpy.github.io/flopydoc/tutorial2.html)\n",
    "- [flopy.modflow.ModflowBas(...)](https://modflowpy.github.io/flopydoc/mfbas.html)\n",
    "- [flopy.modflow.ModflowLpf(...)](https://modflowpy.github.io/flopydoc/mflpf.html)\n",
    "- [flopy.modflow.ModflowOc(...)](https://modflowpy.github.io/flopydoc/mfoc.html)\n",
    "- [flopy.modflow.ModflowPcg(...)](https://modflowpy.github.io/flopydoc/mfpcg.html)\n",
    "- [flopy.modflow.mfwel.ModflowWel(...)](https://modflowpy.github.io/flopydoc/mfwel.html)\n",
    "- [flopy.modflow.ModflowWel(...)](https://modflowpy.github.io/flopydoc/mfwel.html)\n",
    "- [flopy.utils.binaryfile.HeadFile(...)](https://modflowpy.github.io/flopydoc/binaryfile.html)\n",
    "- [flopy.utils.binaryfile.CellBudgetFile(...)](https://modflowpy.github.io/flopydoc/binaryfile.html)\n",
    "- [flopy.utils.util_array.Util3d(...)](https://modflowpy.github.io/flopydoc/util_array.html)\n",
    "- [flopy.utils.reference.SpatialReference(...)](https://modflowpy.github.io/flopydoc/reference.html)\n",
    "- [flopy.utils.util_array.Util2d(...)](https://modflowpy.github.io/flopydoc/util_array.html)\n",
    "- [flopy.utils.reference.TemporalReference(...)](https://modflowpy.github.io/flopydoc/reference.html)\n",
    "- [flopy.modflow.mfrch.ModflowRch(...)](https://modflowpy.github.io/flopydoc/mfrch.html)\n",
    "- [flopy.modpath.ParticleData(...)](https://modflowpy.github.io/flopydoc/mp7particledata.html)\n",
    "- [flopy.modpath.ParticleGroup(...)](https://modflowpy.github.io/flopydoc/mp7particlegroup.html)\n",
    "- [flopy.modpath.CellDataType(...)](https://modflowpy.github.io/flopydoc/mp7particledata.html)\n",
    "- [flopy.modpath.LRCParticleData(...)](https://modflowpy.github.io/flopydoc/mp7particledata.html)\n",
    "- [flopy.modpath.ParticleGroupLRCTemplate(...)](https://modflowpy.github.io/flopydoc/mp7particlegroup.html)\n",
    "- [flopy.modpath.Modpath7(...)](https://modflowpy.github.io/flopydoc/mp7.html)\n",
    "- [flopy.modpath.Modpath7Bas(...)](https://modflowpy.github.io/flopydoc/mp7bas.html)\n",
    "- [flopy.modpath.Modpath7Sim(...)](https://modflowpy.github.io/flopydoc/mp7sim.html)\n",
    "- [flopy.modpath.Modpath7.create_mp7(...)](https://modflowpy.github.io/flopydoc/mp7.html)\n",
    "- [flopy.utils.PathlineFile(...)](https://modflowpy.github.io/flopydoc/modpathfile.html)\n",
    "- [flopy.utils.EndpointFile(...)](https://modflowpy.github.io/flopydoc/modpathfile.html)\n",
    "- [flopy.modflow.mfevt.ModflowEvt(...)](https://modflowpy.github.io/flopydoc/mfevt.html)"
   ]
  },
  {
   "cell_type": "markdown",
   "metadata": {},
   "source": [
    "## Flopy data types, head and budget files\n",
    "\n",
    "In order to access the binary data outputs created by MODFLOW, flopy uses [utility modules](https://modflowpy.github.io/flopydoc/binaryfile.html). We use the Headfile and the CellBudgetFile utility modules to access the data in the modflow outputs.\n",
    "\n",
    "### Head File Object\n",
    "The class *flopy.utils.binaryfile.HeadFile* creates a Headfile object with mutliple functions to view and retrieve the data. To confuse us more, the flopy resource describes it as \"a record array consisting of headers, which are record arrays of the modflow header information (kstp, kper, pertim, totim, text, nrow, ncol, ilay)\".\n",
    "\n",
    "### Cell Budget File Object\n",
    "Flopy has the class *flopy.utils.binaryfile.CellBudgetFile* to create objects with data to calculate the water budget at each cell.This imports the data from the \".cbc\" file. What is returned is the Cell Budget File Object that is essentially a list of multiple Head File Object datatypes except with each one representing a flux instead of the head. We can pull fluxes for different times (or timestep and stressperiod List) or a time series for a cell. For this  in addition to the time or cell location we need to identify the record name (ET, Recharge, etc).\n",
    "\n",
    "#### Commonly Used Attributes -\n",
    "*list_records()* - prints out records that are available from the Head File object\n",
    "\n",
    "*get_alldata()* -  For headfile this returns an array of all heads for all times. Not an attribute of the budget file object - will return an error\n",
    "\n",
    "*get_data()* - We can use *get_data()* and specify the simulation time or timestep and period (list) to get the heads for that specific parameter. This is the default way to get data for the Budget file object requires record name parameter.\n",
    "\n",
    "*get_times()* - returns a list of the simulation output times\n",
    "\n",
    "*get_kstpkper()* -returns a list of all timestep and stress period combos\n",
    "\n",
    "*get_ts()* - retrieve head values for each timestep for a cell or multiple cells - input for single cell as a tuple of (nlay, nrow, ncol), or list of tuples (for multiple cells). For the Budget file object this attribute requires record name parameter (e.g. text='ET')\n",
    "\n",
    "*get_unique_record_names()* - Cell Budget File Object only - Find all the unique records that occur in the model output"
   ]
  },
  {
   "cell_type": "markdown",
   "metadata": {},
   "source": [
    "#### Inital Set up for Box Model using MODFLOW\n",
    "##### 1. Setup the environment"
   ]
  },
  {
   "cell_type": "code",
   "execution_count": 65,
   "metadata": {},
   "outputs": [],
   "source": [
    "#the basics\n",
    "import flopy\n",
    "import numpy as np\n",
    "import matplotlib as mp\n",
    "import os\n",
    "\n",
    "#additional analysis tools\n",
    "import flopy.utils.binaryfile as bf\n",
    "from mpl_toolkits.mplot3d import Axes3D\n",
    "import matplotlib.pyplot as plt\n",
    "from matplotlib import cm\n",
    "from matplotlib.ticker import LinearLocator, FormatStrFormatter\n",
    "import csv\n",
    "\n",
    "#jupyter specific--included to show plots in notebook\n",
    "%matplotlib inline "
   ]
  },
  {
   "cell_type": "markdown",
   "metadata": {},
   "source": [
    "##### 2. Create the model object"
   ]
  },
  {
   "cell_type": "code",
   "execution_count": 66,
   "metadata": {},
   "outputs": [],
   "source": [
    "modelname = \"Box_Model\"\n",
    "moddir=\"/WRDAPP/MF2005.1_12/bin/mf2005\" #this needs to be changed to your path finding!\n",
    "m = flopy.modflow.Modflow(modelname, exe_name = moddir)\n",
    "#moddir = os.getcwd()+\"\\\\modflowdir\\\\mf2005.exe\"\n",
    "\n",
    "#optional delete old run files\n",
    "run = 'n'\n",
    "if run == 'y':\n",
    "    file_extensions = ['.dis','.bas','.lpf','.oc','.pcg','.wel']\n",
    "    for ext in file_extensions:\n",
    "        os.remove(modelname + ext)"
   ]
  },
  {
   "cell_type": "markdown",
   "metadata": {},
   "source": [
    "##### 3. Setup the discretization (DIS package)\n",
    "\n",
    "For more details on DIS package inputs refer to : http://modflowpy.github.io/flopydoc/mfdis.html"
   ]
  },
  {
   "cell_type": "code",
   "execution_count": 67,
   "metadata": {},
   "outputs": [],
   "source": [
    "# 3.1 Spatial discretization\n",
    "nrow = 25 #number of rows\n",
    "ncol = 25 #number of columns\n",
    "nlay = 1  #number of layers\n",
    "\n",
    "dx= 100 #width of grid cells in x diretion \n",
    "dy= 100 #width of grid cells in y diretion \n",
    "\n",
    "Lx = ncol*dx  #width of domain in x\n",
    "Ly = nrow*dy #width of domain in y\n",
    "ztop = 10.    #top elevation \n",
    "zbot = 0.     #bottom elevation\n",
    "\n",
    "dz = (ztop - zbot) / nlay #cell height in z direction\n",
    "\n",
    "# 3.2 Temporal discretization\n",
    "nper = 1 #number of stress periods \n",
    "steady = [True] #list noting the stress period type\n",
    "\n",
    "# 3.3 Create DIS object\n",
    "#create flopy discretization object, length and time are meters (2) and days (4)\n",
    "dis = flopy.modflow.ModflowDis(model=m, nlay=nlay, nrow=nrow, ncol=ncol, \n",
    "                               delr=dx, delc=dy, top=ztop, botm=zbot, \n",
    "                               itmuni = 4, lenuni = 2, \n",
    "                               nper=nper, steady=steady)"
   ]
  },
  {
   "cell_type": "markdown",
   "metadata": {},
   "source": [
    "##### 4. Setup constant head boundaries, active cells and initial heads (BAS Package)\n",
    "\n",
    "For more details on the BAS package see: http://modflowpy.github.io/flopydoc/mfbas.html"
   ]
  },
  {
   "cell_type": "code",
   "execution_count": 68,
   "metadata": {},
   "outputs": [],
   "source": [
    "# 4.1 Define cell activity: IBOUND \n",
    "#create ibound as array of ints = 1\n",
    "ibound = np.ones((nlay, nrow, ncol), dtype=np.int32) #integer array of dim (z,y,x), makes all cells active                                                     \n",
    "#set constand head boundary on the left\n",
    "ibound[:,:,0] = -1          #replace leftmost column (all zs, all ys, first x) with -1 to indicate constant head \n",
    "\n",
    "#print(\"ibound values: \\n\", ibound)\n",
    "\n",
    "# Define starting heads\n",
    "#setup initial heads as 1 everywhere and 7 on the left boundary \n",
    "H_init = np.ones((nlay, nrow, ncol), dtype=np.float32)  #float array (i.e. decimal), sets all heads to 1.0\n",
    "H_init[:, :, 0] = 7    #replace first (left) col with desired head value\n",
    "\n",
    "#print(\"starting head values: \\n\", H_init)\n",
    "\n",
    "# 4.3 Create BAS object\n",
    "#create flopy bas object\n",
    "bas = flopy.modflow.ModflowBas(m, ibound=ibound, strt=H_init)"
   ]
  },
  {
   "cell_type": "markdown",
   "metadata": {},
   "source": [
    "##### 5. Setup Layer Properties  (LPF Package)\n",
    "\n",
    "For more details on LPF package see: http://modflowpy.github.io/flopydoc/mflpf.html"
   ]
  },
  {
   "cell_type": "code",
   "execution_count": 69,
   "metadata": {},
   "outputs": [],
   "source": [
    "# 5.1 Set layer properties\n",
    "K_horiz = 1.    #horizontal hydraulic conductivity \n",
    "K_vert = 0.1    #assign vertical hydraulic conductivity (along z axis)\n",
    "n = 0.35        #assign porosity\n",
    "Ss = 0.001      #assign storage coefficient\n",
    "Sy = 0.3        #assign specific yield\n",
    "uncnf = 1       #0=confined, >0 = unconfined\n",
    "\n",
    "# 5.2 Make LPF object\n",
    "#assigns horiz  and vertical Ks and saves cell-by-cell budget data\n",
    "lpf = flopy.modflow.ModflowLpf(m, laytyp=uncnf, hk=K_horiz, \n",
    "                               vka=K_vert, ss=Ss,\n",
    "                               sy=Sy,storagecoefficient=True, ipakcb=53)"
   ]
  },
  {
   "cell_type": "markdown",
   "metadata": {},
   "source": [
    "##### 6. Setup outputs by stress period (OC Package)\n",
    "\n",
    "For more details on OC Package: http://modflowpy.github.io/flopydoc/mfoc.html"
   ]
  },
  {
   "cell_type": "code",
   "execution_count": 70,
   "metadata": {},
   "outputs": [],
   "source": [
    "# 6.1 Setup outputs\n",
    "#create oc stress period data. \n",
    "#(0,0) tells OC package to save data for stress period 1, time step 1.\n",
    "spd = {(0,0):['print head', 'print budget', 'save head', 'save budget']} #create a dictionary for stress period data, where key (0,0) is associated with value ['print...'] \n",
    "\n",
    "#print(\"oc stress period data: \\n\", spd)\n",
    "\n",
    "# 6.2 Make OC object\n",
    "oc = flopy.modflow.ModflowOc(model=m, stress_period_data=spd, compact=True)"
   ]
  },
  {
   "cell_type": "markdown",
   "metadata": {},
   "source": [
    "##### 7. Set the numerical solver (PCG Package)\n",
    "\n",
    "We are using the Preconditioned Conjugate Gradient package:\n",
    "\n",
    "Additionally, MODFLOW online describes these solvers: https://water.usgs.gov/ogw/modflow/MODFLOW-2005-Guide/index.html?oc.htm\n",
    "\n",
    "And Flopy documents its communication with the PCG MODFLOW package: http://modflowpy.github.io/flopydoc/mfpcg.html"
   ]
  },
  {
   "cell_type": "code",
   "execution_count": 71,
   "metadata": {},
   "outputs": [],
   "source": [
    "# 7.1 Make the PCG object\n",
    "pcg = flopy.modflow.ModflowPcg(model=m)"
   ]
  },
  {
   "cell_type": "markdown",
   "metadata": {},
   "source": [
    "##### 8. Add wells for the constant flux boundary (WEL Package)\n",
    "\n",
    "For more details on the WEL package see: http://modflowpy.github.io/flopydoc/mfwel.html"
   ]
  },
  {
   "cell_type": "code",
   "execution_count": 72,
   "metadata": {},
   "outputs": [],
   "source": [
    "# 8.1 Setup the well parameters\n",
    "Q_in = 25                           #total flow crossing right boundary (m3/day)\n",
    "Q_cell = Q_in / nrow                 #flow entering each cell (m3/day)\n",
    "fluxes = np.zeros((nrow,4))          #create array of zeros (# of rows, # of parameters: [lay, row, col, flux])\n",
    "for i in range(nrow):                #iterate over rows & assign constant flux to each cell in leftmost column\n",
    "    fluxes[i,:] = [0,i,ncol-1,Q_cell]     #[lay, row, col, flux]\n",
    "#print(fluxes)\n",
    "\n",
    "sp_fluxes = {0: fluxes}              #create a dictionary with entries for each stress period\n",
    "\n",
    "#print(sp_fluxes)\n",
    "\n",
    "# 8.2 Make the WEL object\n",
    "wel = flopy.modflow.mfwel.ModflowWel(m, stress_period_data=sp_fluxes)  #create object for WEL package"
   ]
  },
  {
   "cell_type": "markdown",
   "metadata": {},
   "source": [
    "##### 9. Write inputs and run the model"
   ]
  },
  {
   "cell_type": "code",
   "execution_count": 73,
   "metadata": {},
   "outputs": [
    {
     "name": "stdout",
     "output_type": "stream",
     "text": [
      "FloPy is using the following  executable to run the model: /WRDAPP/MF2005.1_12/bin/mf2005.exe\n",
      "\n",
      "                                  MODFLOW-2005     \n",
      "    U.S. GEOLOGICAL SURVEY MODULAR FINITE-DIFFERENCE GROUND-WATER FLOW MODEL\n",
      "                             Version 1.12.00 2/3/2017                        \n",
      "\n",
      " Using NAME file: Box_Model.nam \n",
      " Run start date and time (yyyy/mm/dd hh:mm:ss): 2020/03/26 11:51:16\n",
      "\n",
      " Solving:  Stress period:     1    Time step:     1    Ground-Water Flow Eqn.\n",
      " Run end date and time (yyyy/mm/dd hh:mm:ss): 2020/03/26 11:51:16\n",
      " Elapsed run time:  0.018 Seconds\n",
      "\n",
      "  Normal termination of simulation\n"
     ]
    }
   ],
   "source": [
    "# 9.1 Write Inputs\n",
    "m.write_input()    #uses the package objects created above to actually write the text files, \n",
    "                    #and saves to folder that this script is in\n",
    "                    #after this step you should see the files appear in your folder\n",
    "# 9.2 Run the model\n",
    "success, mfoutput = m.run_model(pause=False, report=True)\n",
    "if not success:\n",
    "    raise Exception('MODFLOW did not terminate normally.')"
   ]
  },
  {
   "cell_type": "markdown",
   "metadata": {},
   "source": [
    "### Example from Box Model (HW1) - Steady state model"
   ]
  },
  {
   "cell_type": "code",
   "execution_count": 74,
   "metadata": {},
   "outputs": [
    {
     "name": "stdout",
     "output_type": "stream",
     "text": [
      "(1, 1, 1., 1., b'            HEAD', 25, 25, 1)\n",
      "<class 'numpy.ndarray'>\n",
      "<class 'numpy.ndarray'>\n",
      "[7.        7.1414423 7.280136  7.4162354 7.5498815 7.6812015 7.810313\n",
      " 7.9373245 8.062335  8.185435  8.306711  8.426242  8.5441    8.660355\n",
      " 8.775068  8.888301  9.00011   9.110545  9.219659  9.327496  9.4341\n",
      " 9.539513  9.643773  9.746919  9.848984 ]\n",
      "[7.        7.1414423 7.280136  7.4162354 7.5498815 7.6812015 7.810313\n",
      " 7.9373245 8.062335  8.185435  8.306711  8.426242  8.5441    8.660355\n",
      " 8.775068  8.888301  9.00011   9.110545  9.219659  9.327496  9.4341\n",
      " 9.539513  9.643773  9.746919  9.848984 ]\n"
     ]
    }
   ],
   "source": [
    "import flopy\n",
    "import numpy as np\n",
    "\n",
    "headobj = flopy.utils.binaryfile.HeadFile('Box_Model.hds') #Get head values for simple steady state model\n",
    "headobj.list_records() #shows records that are available\n",
    "h = headobj.get_alldata() #Creates an array (ntimes, nlay, nrow, ncol)\n",
    "print(type(h))\n",
    "#print(h)\n",
    "h2 = headobj.get_data(totim=1, mflay=0) #Creates array (nrow, ncol)\n",
    "print(type(h2))\n",
    "#print(h2.dtype)\n",
    "print (h[0,0,0,:]) #print heads for 1st row, all columns\n",
    "print (h2[0,:]) #print heads for 1st row, all columns\n"
   ]
  },
  {
   "cell_type": "markdown",
   "metadata": {},
   "source": [
    "### Example from HW4 \n",
    "Getting head values from a certain simulation time or time step and stressperiod."
   ]
  },
  {
   "cell_type": "code",
   "execution_count": 75,
   "metadata": {},
   "outputs": [
    {
     "name": "stdout",
     "output_type": "stream",
     "text": [
      "<class 'numpy.ndarray'>\n"
     ]
    }
   ],
   "source": [
    "# read in the heads\n",
    "headobj = flopy.utils.binaryfile.HeadFile('ET_Model_CheckET2.hds')\n",
    "\n",
    "#headobj.list_records()\n",
    "\n",
    "h = headobj.get_alldata()\n",
    "print(type(h))\n",
    "#print (h)\n",
    "\n",
    "#get data for specified simulation time\n",
    "h = headobj.get_data(totim=100) #get data for specified simulation time\n",
    "# print(type(h))\n",
    "#print(h)\n",
    "\n",
    "#NOTE: Can be helpful to get all the times in the head file using get_times()\n",
    "t = headobj.get_times() # returns a list of simulation output times\n",
    "# print(type(t))\n",
    "# print(t)\n",
    "#get data for a specific timestep and stressperiod(kstp, kper)\n",
    "kstpkper = headobj.get_kstpkper()  \n",
    "\n",
    "#print(kstpkper)\n",
    "\n",
    "#Find the heads across the domain for a given timestep and stress period\n",
    "h = headobj.get_data(kstpkper = (1,1))\n",
    "#print(h)\n",
    "\n",
    "#Timeseries\n",
    "cell = (0,0,0) #single cell nlay, nrow, ncol \n",
    "ts = headobj.get_ts(cell) #returns an array (timestep, head value)\n",
    "#print(ts)\n",
    "\n",
    "cells = [(0,0,0), (0,1,1)] #list of tuples for two cells\n",
    "ts = headobj.get_ts(cells) #returns an array (timestep, head value for cell 1, head value for cell 2)\n",
    "\n",
    "#print(ts)"
   ]
  },
  {
   "cell_type": "markdown",
   "metadata": {},
   "source": [
    "### Budget Example"
   ]
  },
  {
   "cell_type": "code",
   "execution_count": 76,
   "metadata": {},
   "outputs": [
    {
     "name": "stdout",
     "output_type": "stream",
     "text": [
      "-0.74454135\n",
      "1.0\n",
      "-1789.3469\n",
      "2450.0\n"
     ]
    }
   ],
   "source": [
    "#create the budjet object from the data in the cbc file\n",
    "budgobj = flopy.utils.binaryfile.CellBudgetFile('ET_Model_CheckET.cbc')\n",
    "#print(type(budgobj))\n",
    "recnames = budgobj.get_unique_record_names() #Find all the unique records that occur in the model output\n",
    "#print(recnames)\n",
    "#indices = budgobj.get_indices(text='ET')\n",
    "#print(indices)\n",
    "\n",
    "et = budgobj.get_data(text='ET', totim=1.0) #returns list of arrays with text identifier of ET in format (idx, nlay, nrow, ncol)\n",
    "#print(type(et))\n",
    "# for element in et[0]:\n",
    "#     print(type(element))\n",
    "\n",
    "recharge = budgobj.get_data(text='RECHARGE', totim=1.0) #returns an array of flow rates for front face of cells \n",
    "\n",
    "print(et[0][1][30][49]) #print ET FLux at cell from idx = 0, , nrow = 1, ncol = 49\n",
    "print(recharge[0][1][0][49]) #print recharge Flux for same cell\n",
    "\n",
    "#Sum all ET and Recharge Cells (from HW4)\n",
    "print(np.sum(et[0][1]))\n",
    "print(np.sum(recharge[0][1]))"
   ]
  },
  {
   "cell_type": "markdown",
   "metadata": {},
   "source": [
    "### Budget File - multiple times\n",
    "Just like the headfile, we can pull heads for different times (or timestep and stressperiod List) or a time series for a cell. In addition to the time or cell location we need to identify the record name (ET, Recharge, etc)"
   ]
  },
  {
   "cell_type": "code",
   "execution_count": 77,
   "metadata": {},
   "outputs": [
    {
     "name": "stdout",
     "output_type": "stream",
     "text": [
      "(1, 1, b'   CONSTANT HEAD', 50, 50, -1, 2, 1., 1., 1., b'', b'', b'', b'')\n",
      "(1, 1, b'FLOW RIGHT FACE ', 50, 50, -1, 1, 1., 1., 1., b'', b'', b'', b'')\n",
      "(1, 1, b'FLOW FRONT FACE ', 50, 50, -1, 1, 1., 1., 1., b'', b'', b'', b'')\n",
      "(1, 1, b'              ET', 50, 50, -1, 3, 1., 1., 1., b'', b'', b'', b'')\n",
      "(1, 1, b'        RECHARGE', 50, 50, -1, 3, 1., 1., 1., b'', b'', b'', b'')\n",
      "[[ 0.         -0.70188504 -0.70372266 ... -0.7444384  -0.7445071\n",
      "  -0.74454135]\n",
      " [ 0.         -0.70188504 -0.70372266 ... -0.7444384  -0.7445071\n",
      "  -0.74454135]\n",
      " [ 0.         -0.70188504 -0.70372266 ... -0.7444384  -0.7445071\n",
      "  -0.74454135]\n",
      " ...\n",
      " [ 0.         -0.70188504 -0.70372266 ... -0.7444384  -0.7445071\n",
      "  -0.74454135]\n",
      " [ 0.         -0.70188504 -0.70372266 ... -0.7444384  -0.7445071\n",
      "  -0.74454135]\n",
      " [ 0.         -0.70188504 -0.70372266 ... -0.7444384  -0.7445071\n",
      "  -0.74454135]]\n",
      "[[1. 0.]]\n",
      "[[ 1.          0.         -0.70188504]]\n"
     ]
    }
   ],
   "source": [
    "#Find the flux across the domain for a given timestep and stress period\n",
    "budgobj.list_records()\n",
    "\n",
    "et = budgobj.get_data(kstpkper = (0,0), text='ET')\n",
    "print(et[0][1])\n",
    "\n",
    "\n",
    "#Timeseries\n",
    "cell = (0,0,0) #single cell- tuple(nlay, nrow, ncol)\n",
    "ts = budgobj.get_ts(idx=cell, text='ET') #returns an array (timestep, ETflux)\n",
    "print(ts)\n",
    "\n",
    "cells = [(0,0,0), (0,1,1)] #list of tuples for two cells\n",
    "ts = budgobj.get_ts(idx=cells, text='ET') #returns an array (timestep, ET flux for cell 1, ET flux for cell 2)\n",
    "\n",
    "print(ts)"
   ]
  },
  {
   "cell_type": "markdown",
   "metadata": {},
   "source": [
    "### Ploting your Data for Readability\n",
    "One flopy function worth mentioning is the *flopy.plot.PlotMapView()*. This is flopy's way of reading outputs and graphically representing the file types above."
   ]
  },
  {
   "cell_type": "code",
   "execution_count": 78,
   "metadata": {},
   "outputs": [
    {
     "data": {
      "image/png": "[encoded data removed]",
      "text/plain": [
       "<Figure size 720x720 with 2 Axes>"
      ]
     },
     "metadata": {
      "needs_background": "light"
     },
     "output_type": "display_data"
    }
   ],
   "source": [
    "headobj = bf.HeadFile(modelname+'.hds')    #reads the binary head file\n",
    "times = headobj.get_times()                #returns a list of timesteps\n",
    "head = headobj.get_data(totim=times[-1])        #returns a numpy array of heads for specified time (last timestep)\n",
    "\n",
    "budgobj = bf.CellBudgetFile(modelname+'.cbc')   #reads the cell budget file    \n",
    "kstpkper_list = budgobj.get_kstpkper()          #returns a list of stress periods & timesteps\n",
    "frf = budgobj.get_data(text='flow right face', totim=1.0) #returns an array of flow rates for right face of cells\n",
    "fff = budgobj.get_data(text='flow front face', totim=1.0) #returns an array of flow rates for front face of cells     \n",
    "         #string options are in the list file under output control (make sure to include spaces!)\n",
    "#print(\"Flow through Right Face of Grid Cells m^3/d \\n\", frf,\n",
    "#     \"\\n Flow through Front Face of Grid Cells m^3/d \\n\", fff)\n",
    "\n",
    "#plot results\n",
    "fig3=plt.figure(figsize=(10,10)) #create 10 x 10 figure\n",
    "modelmap = flopy.plot.PlotMapView(model=m, layer=0) #use modelmap to attach plot to model\n",
    "#grid = modelmap.plot_grid() #plot model grid\n",
    "qm = modelmap.plot_ibound()  \n",
    "contour_levels = np.linspace(head[0].min(),head[0].max(),11) #set contour levels for contouring head\n",
    "head_contours = modelmap.contour_array(head, levels=contour_levels) #create head contours\n",
    "flows = modelmap.plot_discharge(frf[0], fff[0], head=head) #create discharge arrows\n",
    "\n",
    "#display parameters\n",
    "plt.xlabel('Lx (m)',fontsize = 14)\n",
    "plt.ylabel('Ly (m)',fontsize = 14)\n",
    "plt.title('Steady-State Model, Flow(m^3/d) and Head(m) Results', fontsize = 15, fontweight = 'bold')\n",
    "plt.colorbar(head_contours,aspect=5)\n",
    "#plt.show(modelmap)\n",
    "plt.savefig('BoxModel_vectors.png')"
   ]
  },
  {
   "cell_type": "markdown",
   "metadata": {},
   "source": [
    "FloPy Works Cited\n",
    "-----------------------------------------------\n",
    "\n",
    "##### ***Citation for FloPy:***\n",
    "\n",
    "[Bakker, M., Post, V., Langevin, C. D., Hughes, J. D., White, J. T., Starn, J. J. and Fienen, M. N., 2016, Scripting MODFLOW Model Development Using Python and FloPy: Groundwater, v. 54, p. 733–739, doi:10.1111/gwat.12413.](http://dx.doi.org/10.1111/gwat.12413)\n",
    "\n",
    "##### ***Software/Code citation for FloPy:***\n",
    "\n",
    "[Bakker, M., Post, V., Langevin, C. D., Hughes, J. D., White, J. T., Leaf, A. T., Paulinski, S. R., Larsen, J. D., Toews, M. W., Morway, E. D., Bellino, J. C., Starn, J. J., and Fienen, M. N., 2019, FloPy v3.3.1 &mdash; release candidate: U.S. Geological Survey Software Release, 15 December 2019, http://dx.doi.org/10.5066/F7BK19FH](http://dx.doi.org/10.5066/F7BK19FH)\n",
    "\n",
    "\n",
    "MODFLOW Resources\n",
    "-----------------------------------------------\n",
    "\n",
    "+ [MODFLOW and Related Programs](http://water.usgs.gov/ogw/modflow/)\n",
    "+ [Online guide for MODFLOW-2000](http://water.usgs.gov/nrp/gwsoftware/modflow2000/Guide/index.html)\n",
    "+ [Online guide for MODFLOW-2005](http://water.usgs.gov/ogw/modflow/MODFLOW-2005-Guide/)\n",
    "+ [Online guide for MODFLOW-NWT](http://water.usgs.gov/ogw/modflow-nwt/MODFLOW-NWT-Guide/)"
   ]
  }
 ],
 "metadata": {
  "kernelspec": {
   "display_name": "Python 3",
   "language": "python",
   "name": "python3"
  },
  "language_info": {
   "codemirror_mode": {
    "name": "ipython",
    "version": 3
   },
   "file_extension": ".py",
   "mimetype": "text/x-python",
   "name": "python",
   "nbconvert_exporter": "python",
   "pygments_lexer": "ipython3",
   "version": "3.7.4"
  }
 },
 "nbformat": 4,
 "nbformat_minor": 4
}
