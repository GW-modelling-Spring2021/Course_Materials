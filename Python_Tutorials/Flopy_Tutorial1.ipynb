{
 "cells": [
  {
   "cell_type": "markdown",
   "metadata": {},
   "source": [
    "# Flopy Tutorial 1: Steady-State, Confined Aquifer "
   ]
  },
  {
   "cell_type": "markdown",
   "metadata": {},
   "source": [
    "This script will walk through the creation of a single-layer, confined aquifer in flopy and use MODFLOW-2005 to run a steady-state simulation of groundwater flow in a 100m x 100m domain with a 10m head boundary on one side and a 0m head boundary on the other side, as displayed below:\n",
    "\n",
    "<img src=\"https://i.imgur.com/PH9sCDw.png\" title=\"modflow model\" width=\"600px\" /></a>\n",
    "\n",
    "The documenatation can be found here:\n",
    "\n",
    "http://modflowpy.github.io/flopydoc/\n",
    "\n",
    "It's an excellent resource for download instructions, all of the flopy commands, and examples of flopy code. The basis for this tutorial may be found here as well, with some further explanation/post-processing done in this jupyter notebook.\n",
    "\n",
    "Using flopy, it is helpful to be familiar with MODFLOW. The online documentation is located here and will have additional information on the variables used in flopy functions: https://water.usgs.gov/nrp/gwsoftware/modflow2000/MFDOC/index.html?rch.htm\n",
    "\n",
    "<strong> Note:</strong> In order to use this script you must compile MODFLOW in CoCalc. See the \"MODFLOW_compiler.ipynb\" file. If using your personal version of Anaconda, you must download a MODFLOW executable from the USGS website. (https://water.usgs.gov/ogw/modflow/)."
   ]
  },
  {
   "cell_type": "markdown",
   "metadata": {},
   "source": [
    "## Name your model file"
   ]
  },
  {
   "cell_type": "code",
   "execution_count": 1,
   "metadata": {},
   "outputs": [],
   "source": [
    "modelname = \"McHenry_test\""
   ]
  },
  {
   "cell_type": "markdown",
   "metadata": {},
   "source": [
    "## Installing FloPy\n",
    "\n",
    "If this is your first time using FloPy and you are using Anaconda, install using Anaconda Prompt:\n",
    "\n",
    "pip3 install flopy"
   ]
  },
  {
   "cell_type": "markdown",
   "metadata": {},
   "source": [
    "# Introduction\n",
    "Flopy is a python package, developed to create and run MODFLOW groundwater flow models. The schematic below, illustrates how Flopy communicates with MODFLOW:\n",
    "\n",
    "<img src=\"https://i.imgur.com/n2Dj6QF.png\" title=\"Flopy to MODFLOW Flow Chart\" /></a>\n",
    "\n",
    "* <strong> <font size = 5> 1 </font> </strong> Aquifer properties are collected or estimated from some aquifer system, including dimensions, elevations, hydraulic conductivity, specific storage/yield and location/properties of wells, rivers, lakes or other hydrologic features. \n",
    "\n",
    "* <strong> <font size = 5> 2 </font> </strong> A model is created in a python script using the Flopy package to set up the different Packages MODFLOW uses to run its groundwater flow models, (DIS, BAS, LPF, RIV, WEL, ETC...), as python objects. \n",
    "\n",
    "* <strong> <font size = 5> 3 </font> </strong> Flopy is called to write the MODFLOW input files from these objects. \n",
    "\n",
    "* <strong> <font size = 5> 4 </font> </strong> A Flopy function sends the files to a specified MODFLOW executable program that will be used to solve the groundwater flow model. \n",
    "\n",
    "* <strong> <font size = 5> 5 </font> </strong> The MODFLOW executable program outputs binary data into head and budget files. \n",
    "\n",
    "* <strong> <font size = 5> 6 </font> </strong> Flopy reads in binary head and budget data from the MODFLOW output files.\n",
    "\n",
    "* <strong> <font size = 5> 7 </font> </strong> Data is visualized using Flopy's plotting capabilities.        \n",
    "\n",
    "\n",
    "## Contents of script:\n",
    "\n",
    "* <strong><a href=\"#I\">I: Model Object </a></strong>\n",
    "\n",
    "\n",
    "#### Creating MODFLOW Packages in Flopy:\n",
    "* <strong><a href=\"#II\">II: DIS Package</a> </strong> \n",
    "    <ul>\n",
    "      <li> Discretizing time & space and setting up the MODFLOW DIS file.</li>  \n",
    "        </ul>\n",
    "    \n",
    "* <strong><a href=\"#III\">III: BAS Package</a> </strong>\n",
    "    <ul>\n",
    "      <li> Specifying cell activity and setting up the MODFLOW BAS file.</li>  \n",
    "        </ul>\n",
    "* <strong><a href=\"#IV\">IV: LPF Package</a> </strong>\n",
    "    <ul>\n",
    "      <li> Defining model properties and setting up the MODFLOW LPF file.</li>  \n",
    "        </ul>\n",
    "\n",
    "* <strong><a href=\"#V\">V: OC Package</a> </strong>\n",
    "    <ul>\n",
    "      <li> Specifying the data that the MODFLOW executable will record as output during the model run and setting up the MODFLOW OC package.</li>  \n",
    "        </ul>\n",
    "\n",
    "* <strong><a href=\"#VI\">VI: PCG Package</a> </strong>\n",
    "    <ul>\n",
    "      <li> Assigning the pre-conditioned conjugate gradient solver to the groundwater flow model by setting up the MODFLOW PCG package.</li>  \n",
    "        </ul>\n",
    "\n",
    "#### Writing Files and Running Model:\n",
    "\n",
    "* <strong><a href=\"#VII\">VII: Write MODFLOW Input Files</a> </strong>\n",
    "* <strong><a href=\"#VIII\">VIII: Run MODFLOW executable</a> </strong>\n",
    "\n",
    "#### Post Processing:\n",
    "* <strong><a href=\"#IX\">IX: Read MODFLOW output</a> </strong>\n",
    "* <strong><a href=\"#X\">X: Plot Results</a> </strong>\n",
    "    </li>\n",
    "<ol>\n",
    "\n"
   ]
  },
  {
   "cell_type": "markdown",
   "metadata": {},
   "source": [
    "- First we will import the appropriate packages to run a modflow model in python and display the data"
   ]
  },
  {
   "cell_type": "code",
   "execution_count": 2,
   "metadata": {},
   "outputs": [
    {
     "name": "stdout",
     "output_type": "stream",
     "text": [
      "flopy is installed in /Library/Frameworks/Python.framework/Versions/3.7/lib/python3.7/site-packages/flopy\n"
     ]
    }
   ],
   "source": [
    "import flopy\n",
    "import numpy as np\n",
    "import matplotlib.pyplot as plt\n",
    "import matplotlib as mp\n",
    "import os\n",
    "\n",
    "#jupyter specific--included to show plots in notebook\n",
    "%matplotlib inline "
   ]
  },
  {
   "cell_type": "markdown",
   "metadata": {},
   "source": [
    " <a name=\"I\"></a> \n",
    " ## I. Create Model Object\n",
    "\n",
    "- We define a MODFLOW model class object using the following FloPy function. The arguments are telling object 'model' what the modelname is and where the MODFLOW executable file is to use to run the model on your computer.\n",
    "\n",
    "- Note that the default model workspace is the location of your python notebook, so all MODFLOW files will be created there, but you may specify a different workspace if you'd like the files to be created somewhere else. (See: http://modflowpy.github.io/flopydoc/mf.html for more options)"
   ]
  },
  {
   "cell_type": "code",
   "execution_count": 3,
   "metadata": {},
   "outputs": [],
   "source": [
    "modelname = \"my_testmodel\"\n",
    "m = flopy.modflow.Modflow(modelname, exe_name='/Applications/MODFLOW/mf2005')\n",
    "\n",
    "#moddir = os.getcwd()+\"\\\\modflowdir\\\\mf2005.exe\"\n",
    "#m = flopy.modflow.Modflow(modelname, exe_name = moddir)"
   ]
  },
  {
   "cell_type": "markdown",
   "metadata": {},
   "source": [
    " <a name=\"II\"></a> \n",
    "## II. MODFLOW DIS package\n",
    "Now we attach the DIS package to our model. The DIS package specifies model discretization in space and time. It contains information regarding:\n",
    "- <strong> spatial discretization: </strong> (the number of rows, layers, and columns, as well as cell sizes)\n",
    "- <strong> temporal discretization: </strong> (number of stress periods, steady-state/transient model within a stress period, length of stress periods, and the number of time steps within stress periods)\n",
    "\n",
    "### Spatial Discretization\n",
    "- We define a 100 x 100 unit model domain, and discretize this into 10 rows and columns. "
   ]
  },
  {
   "cell_type": "code",
   "execution_count": 4,
   "metadata": {},
   "outputs": [],
   "source": [
    "#assign discretization variables\n",
    "Lx = 100.\n",
    "Ly = 100.\n",
    "ztop = 0.\n",
    "zbot = -50.\n",
    "nlay = 1\n",
    "nrow = 10\n",
    "ncol = 10\n",
    "dx = Lx/ncol\n",
    "dy = Ly/nrow\n",
    "dz = (ztop - zbot) / nlay"
   ]
  },
  {
   "cell_type": "markdown",
   "metadata": {},
   "source": [
    "<img src=\"https://i.imgur.com/Abaeeyo.png\" title=\"discretization\" /></a>"
   ]
  },
  {
   "cell_type": "markdown",
   "metadata": {},
   "source": [
    "### Temporal Discretization\n",
    "\n",
    "To discretize time, we must first specify how many stress periods are involved in this model. This is done through flopy's variable 'nper'. As we are solving a steady-state model, we will only specify 1 stress period."
   ]
  },
  {
   "cell_type": "code",
   "execution_count": 5,
   "metadata": {},
   "outputs": [],
   "source": [
    "#specify number of stress periods\n",
    "nper = 1"
   ]
  },
  {
   "cell_type": "markdown",
   "metadata": {},
   "source": [
    "We then create a variable called \"steady\" as a list of boolean \"True/False\" flags, one for each stress period, indicating whether the finite difference solver should solve a steady-state or transient model. True=steady-state, False=Transient. Our list will only contain one boolean for the single, steady-state stress period."
   ]
  },
  {
   "cell_type": "code",
   "execution_count": 6,
   "metadata": {
    "scrolled": true
   },
   "outputs": [
    {
     "name": "stdout",
     "output_type": "stream",
     "text": [
      "steady-state data flag: \n",
      " [True]\n"
     ]
    }
   ],
   "source": [
    "#specify if stress period is transient or steady-state\n",
    "steady = [True]\n",
    "\n",
    "print(\"steady-state data flag: \\n\", steady)"
   ]
  },
  {
   "cell_type": "markdown",
   "metadata": {},
   "source": [
    "There are several other variables involved in the DIS package that allow the user to specify time-step properties of the stress period data (legnth of stress period, number of time steps per stress period, and time step multiplier). As this model is a single period, steady-state model, these options don't apply and hence we will not specify them."
   ]
  },
  {
   "cell_type": "markdown",
   "metadata": {},
   "source": [
    "### Create DIS object\n",
    "\n",
    "The spatial and temporal discretizations are used to create the flopy DIS object which will later be used to create the MODFLOW \"DIS\" package. "
   ]
  },
  {
   "cell_type": "code",
   "execution_count": 7,
   "metadata": {},
   "outputs": [],
   "source": [
    "#create flopy discretization object, length and time are meters (2) and days (4)\n",
    "dis = flopy.modflow.ModflowDis(model=m, nlay=nlay, nrow=nrow, ncol=ncol, \n",
    "                               delr=dx, delc=dy, top=ztop, botm=zbot, \n",
    "                               itmuni = 4, lenuni = 2, \n",
    "                               nper=nper, steady=steady)"
   ]
  },
  {
   "cell_type": "markdown",
   "metadata": {},
   "source": [
    "Confused about the arguments given to the flopy.modflow.ModflowDis() function? \n",
    "Check out the Flopy documentation here: http://modflowpy.github.io/flopydoc/mfdis.html \n",
    "\n",
    "If you'd like to see the grid you've created, flopy has plotting capabilities to visualize \"ModelMap\" attributes such as the grid, which it pulls from the flopy \"dis\" object. Note that ModelMap uses matplotlib, so you will want to make sure you have that package imported at the top of your script as well!"
   ]
  },
  {
   "cell_type": "code",
   "execution_count": 8,
   "metadata": {},
   "outputs": [
    {
     "data": {
      "image/png": "[encoded data removed]",
      "text/plain": [
       "<Figure size 432x288 with 1 Axes>"
      ]
     },
     "metadata": {
      "needs_background": "light"
     },
     "output_type": "display_data"
    }
   ],
   "source": [
    "#use flopy to plot the grid of model 'm'\n",
    "modelmap = flopy.plot.PlotMapView(model=m, layer=0)\n",
    "grid = modelmap.plot_grid() \n",
    "plt.xlabel('Lx (m)',fontsize = 14)\n",
    "plt.ylabel('Ly (m)',fontsize = 14)\n",
    "plt.title('Grid', fontsize = 15, fontweight = 'bold')\n",
    "plt.show()"
   ]
  },
  {
   "cell_type": "markdown",
   "metadata": {},
   "source": [
    " <a name=\"III\"></a> \n",
    "## III. MODFLOW BAS package\n",
    "\n",
    "Next, we attach the BAS package to our model. The BAS package specifies cell activity (how cells will participate in the model run) as well as starting heads to be used in the cells at the start of the groundwater flow simulation.\n",
    "\n",
    "### Define Cell Activity: IBOUND\n",
    "\n",
    "We assign the cell activity using a variable called <strong>IBOUND</strong>. Ibound is defined as an array of integers of form (nlay, nrow, ncol), or one for each cell with flags for the activity level:\n",
    "\n",
    "- <strong> >/= 1: active </strong> (cell has active finite difference equations calculating the head for this cell as well as flows between its neighbors) \n",
    "- <strong> = 0: inactive </strong> (cell has no active finite difference equations associated with it)\n",
    "- <strong> </= 0: constant head </strong>  (cell has active finite difference equation for flows between cells but not for head at the cell as it is kept constant throughout the simulation)\n",
    "\n",
    "For this model, the first and last column are set to be constant heads and the rest of the domain is set as active. "
   ]
  },
  {
   "cell_type": "code",
   "execution_count": 9,
   "metadata": {},
   "outputs": [
    {
     "name": "stdout",
     "output_type": "stream",
     "text": [
      "ibound values: \n",
      " [[[-1  1  1  1  1  1  1  1  1 -1]\n",
      "  [-1  1  1  1  1  1  1  1  1 -1]\n",
      "  [-1  1  1  1  1  1  1  1  1 -1]\n",
      "  [-1  1  1  1  1  1  1  1  1 -1]\n",
      "  [-1  1  1  1  1  1  1  1  1 -1]\n",
      "  [-1  1  1  1  1  1  1  1  1 -1]\n",
      "  [-1  1  1  1  1  1  1  1  1 -1]\n",
      "  [-1  1  1  1  1  1  1  1  1 -1]\n",
      "  [-1  1  1  1  1  1  1  1  1 -1]\n",
      "  [-1  1  1  1  1  1  1  1  1 -1]]]\n"
     ]
    }
   ],
   "source": [
    "#create ibound as array of ints = 1\n",
    "ibound = np.ones((nlay, nrow, ncol), dtype=np.int32)\n",
    "#assign left and right boundary cells to constant head\n",
    "ibound[:, :, 0] = -1\n",
    "ibound[:, :, -1] = -1\n",
    "\n",
    "print(\"ibound values: \\n\", ibound)"
   ]
  },
  {
   "cell_type": "markdown",
   "metadata": {},
   "source": [
    "### Define Starting Heads\n",
    "\n",
    "Values for starting heads are given cell by cell with the variable <strong>strt</strong> defined as an array of floats of form (nlay, nrow, ncol). For this model the left and right boundaries are set to be constant heads in the IBOUND variable, so the starting heads assigned to these cells will be set throughout the model. Since we are interested in steady-state flow from a left boundary of h=10m and right boundary of h=0m we assign those conditions in the strt variable."
   ]
  },
  {
   "cell_type": "code",
   "execution_count": 10,
   "metadata": {},
   "outputs": [
    {
     "name": "stdout",
     "output_type": "stream",
     "text": [
      "starting head values: \n",
      " [[[10.  5.  5.  5.  5.  5.  5.  5.  5.  0.]\n",
      "  [10.  5.  5.  5.  5.  5.  5.  5.  5.  0.]\n",
      "  [10.  5.  5.  5.  5.  5.  5.  5.  5.  0.]\n",
      "  [10.  5.  5.  5.  5.  5.  5.  5.  5.  0.]\n",
      "  [10.  5.  5.  5.  5.  5.  5.  5.  5.  0.]\n",
      "  [10.  5.  5.  5.  5.  5.  5.  5.  5.  0.]\n",
      "  [10.  5.  5.  5.  5.  5.  5.  5.  5.  0.]\n",
      "  [10.  5.  5.  5.  5.  5.  5.  5.  5.  0.]\n",
      "  [10.  5.  5.  5.  5.  5.  5.  5.  5.  0.]\n",
      "  [10.  5.  5.  5.  5.  5.  5.  5.  5.  0.]]]\n"
     ]
    }
   ],
   "source": [
    "#create strt as array of floats = 1\n",
    "strt = 5*np.ones((nlay, nrow, ncol), dtype=np.float32)\n",
    "#set left side head to 10 m\n",
    "strt[:, :, 0] = 10.\n",
    "#set right side head to 0 m\n",
    "strt[:, :, -1] = 0.\n",
    "\n",
    "print(\"starting head values: \\n\", strt)"
   ]
  },
  {
   "cell_type": "markdown",
   "metadata": {},
   "source": [
    "### Create BAS object\n",
    "\n",
    "We now use <strong>strt</strong> and <strong>IBOUND</strong> to make the 'bas' flopy object which will later be used to create the MODFLOW BAS package."
   ]
  },
  {
   "cell_type": "code",
   "execution_count": 11,
   "metadata": {},
   "outputs": [],
   "source": [
    "#create flopy bas object\n",
    "bas = flopy.modflow.ModflowBas(m, ibound=ibound, strt=strt)"
   ]
  },
  {
   "cell_type": "markdown",
   "metadata": {},
   "source": [
    "If you wish to visualize the ibound variable assigned to this bas package, flopy ModelMap may be also used to display ibound. "
   ]
  },
  {
   "cell_type": "code",
   "execution_count": 12,
   "metadata": {},
   "outputs": [
    {
     "data": {
      "image/png": "[encoded data removed]",
      "text/plain": [
       "<Figure size 432x288 with 1 Axes>"
      ]
     },
     "metadata": {
      "needs_background": "light"
     },
     "output_type": "display_data"
    }
   ],
   "source": [
    "#plot grid and ibound\n",
    "modelmap = flopy.plot.PlotMapView(model=m, layer=0)\n",
    "grid = modelmap.plot_grid()\n",
    "ib = modelmap.plot_ibound()\n",
    "#add labels and legend\n",
    "plt.xlabel('Lx (m)',fontsize = 14)\n",
    "plt.ylabel('Ly (m)',fontsize = 14)\n",
    "plt.title('Ibound', fontsize = 15, fontweight = 'bold')\n",
    "plt.legend(handles=[mp.patches.Patch(color='blue',label='Const. Head',ec='black'),\n",
    "                   mp.patches.Patch(color='white',label='Active Cell',ec='black'),\n",
    "                   mp.patches.Patch(color='black',label='Inactive Cell',ec='black')],\n",
    "                   bbox_to_anchor=(1.5,1.0))\n",
    "plt.show(modelmap)"
   ]
  },
  {
   "cell_type": "markdown",
   "metadata": {},
   "source": [
    " <a name=\"IV\"></a> \n",
    "## IV. MODFLOW LPF package"
   ]
  },
  {
   "cell_type": "markdown",
   "metadata": {},
   "source": [
    "The LPF package specifies Layer Properties associated with the flow in each cell. It holds information regarding horizontal and vertical hydraulic conductivity, layer confinement properties (confined/unconfined), specific storage, and specific yield among other flags for the model run for  which we will use flopy's default settings.\n",
    "\n",
    "### Define Hydraulic Conductivity\n",
    "\n",
    "Here we define \"hk\" as a variable for horizontal hydraulic conductivity of 1 m/d that will be the same in the x and y directions, and \"vka\" as a variable for vertical conductivity of 1 m/d. hk and vka are arrays of floats of form (nlay, nrow, ncol) with conductivity values for each cell. You may also a ratio of anisotropy in the y direction for the flopy LPF function, if hk should be anisotropic in the xy plane. http://modflowpy.github.io/flopydoc/mflpf.html has details regarding these options.\n"
   ]
  },
  {
   "cell_type": "code",
   "execution_count": 13,
   "metadata": {},
   "outputs": [
    {
     "name": "stdout",
     "output_type": "stream",
     "text": [
      "horizontal k values: \n",
      " [[[5. 5. 5. 5. 5. 5. 5. 5. 5. 5.]\n",
      "  [5. 5. 5. 5. 5. 5. 5. 5. 5. 5.]\n",
      "  [5. 5. 5. 5. 5. 5. 5. 5. 5. 5.]\n",
      "  [5. 5. 5. 5. 5. 5. 5. 5. 5. 5.]\n",
      "  [5. 5. 5. 5. 5. 5. 5. 5. 5. 5.]\n",
      "  [5. 5. 5. 5. 5. 5. 5. 5. 5. 5.]\n",
      "  [5. 5. 5. 5. 5. 5. 5. 5. 5. 5.]\n",
      "  [5. 5. 5. 5. 5. 5. 5. 5. 5. 5.]\n",
      "  [5. 5. 5. 5. 5. 5. 5. 5. 5. 5.]\n",
      "  [5. 5. 5. 5. 5. 5. 5. 5. 5. 5.]]] \n",
      " vertical k values: \n",
      " [[[1. 1. 1. 1. 1. 1. 1. 1. 1. 1.]\n",
      "  [1. 1. 1. 1. 1. 1. 1. 1. 1. 1.]\n",
      "  [1. 1. 1. 1. 1. 1. 1. 1. 1. 1.]\n",
      "  [1. 1. 1. 1. 1. 1. 1. 1. 1. 1.]\n",
      "  [1. 1. 1. 1. 1. 1. 1. 1. 1. 1.]\n",
      "  [1. 1. 1. 1. 1. 1. 1. 1. 1. 1.]\n",
      "  [1. 1. 1. 1. 1. 1. 1. 1. 1. 1.]\n",
      "  [1. 1. 1. 1. 1. 1. 1. 1. 1. 1.]\n",
      "  [1. 1. 1. 1. 1. 1. 1. 1. 1. 1.]\n",
      "  [1. 1. 1. 1. 1. 1. 1. 1. 1. 1.]]]\n"
     ]
    }
   ],
   "source": [
    "#define horizontal hydraulic conductivity\n",
    "hk = np.ones((nlay,nrow,ncol), dtype=np.float32)*5\n",
    "vk = np.ones((nlay,nrow,ncol), dtype=np.float32)\n",
    "\n",
    "print(\"horizontal k values: \\n\", hk,\n",
    "     \"\\n vertical k values: \\n\", vk)"
   ]
  },
  {
   "cell_type": "markdown",
   "metadata": {},
   "source": [
    "### Define Aquifer Confinement Properties\n",
    "\n",
    "Layers may be specified in flopy with variable <strong> laytyp </strong>, an array of (nlay) integer flags to say whether a model is:\n",
    "\n",
    "- <strong> =0 Confined:</strong>  Aquifer layers will be treated as confined\n",
    "- <strong> >0 Convertible:</strong> Aquifer layers will be treated as confined if the water level is above the top of the aquifer cell and unconfined if the water level is below the top of the aquifer cell.\n",
    "\n",
    "This single-layer model will be treated as confined."
   ]
  },
  {
   "cell_type": "code",
   "execution_count": 14,
   "metadata": {},
   "outputs": [
    {
     "name": "stdout",
     "output_type": "stream",
     "text": [
      "layer type values: \n",
      " [0]\n"
     ]
    }
   ],
   "source": [
    "#define layer type as confined\n",
    "laytyp = np.zeros((nlay,), dtype=np.int32)\n",
    "\n",
    "print(\"layer type values: \\n\", laytyp)\n"
   ]
  },
  {
   "cell_type": "markdown",
   "metadata": {},
   "source": [
    "### Define LPF object\n",
    "We now use <strong>hk</strong>, <strong>vk</strong>, and <strong>laytyp</strong> to make the 'lpf' flopy object which will be used to create the MODFLOW LPF package. <strong>ipakcb</strong> is a flag to say whether we will save cell by cell buget data (flows etc) (ipakcb>0 = save data). (<strong>Note:</strong> Flopy claims that budget data saves by using the ipakcb default settings, but it seems that ipakcb must be explicitly specified in order to be saved.)"
   ]
  },
  {
   "cell_type": "code",
   "execution_count": 15,
   "metadata": {},
   "outputs": [],
   "source": [
    "lpf = flopy.modflow.ModflowLpf(model=m, hk=hk, vka=vk, laytyp=laytyp, ipakcb=1)"
   ]
  },
  {
   "cell_type": "markdown",
   "metadata": {},
   "source": [
    " <a name=\"V\"></a> \n",
    "## V. MODFLOW OC Package\n",
    "\n",
    "The OC package tells MODFLOW which attributes of the head and flow solutions should be printed and saved for each stress period during the modelrun. \n",
    "\n",
    "### Create Output Control Stress Period Data \n",
    "To designate what data to save, we create variable <strong> spd </strong> as a  dictionary of stress period data to be used as an argument for the flopy oc function. This takes the form: \n",
    "\n",
    "spd = {(stress period, time step): ['PRINT HEAD', 'PRINT BUDGET', 'SAVE HEAD', 'SAVE DRAWDOWN', 'SAVE IBOUND', 'SAVE BUDGET']} \n",
    "\n",
    "<strong> Note </strong> that the list of strings may be modified if you wish to only save some of the data. Here we will choose to record and save budget and head values for our steady-state model with a single stress period/time step as we specified in the 'dis' object."
   ]
  },
  {
   "cell_type": "code",
   "execution_count": 16,
   "metadata": {},
   "outputs": [
    {
     "name": "stdout",
     "output_type": "stream",
     "text": [
      "oc stress period data: \n",
      " {(0, 0): ['save head', 'save budget']}\n"
     ]
    }
   ],
   "source": [
    "#create oc stress period data. \n",
    "spd = {(0, 0): ['save head', 'save budget']}\n",
    "\n",
    "print(\"oc stress period data: \\n\", spd)"
   ]
  },
  {
   "cell_type": "markdown",
   "metadata": {},
   "source": [
    "### Define OC object\n",
    "We will use <strong>spd</strong> to make the 'oc' flopy object which will later be used to create the MODFLOW OC package."
   ]
  },
  {
   "cell_type": "code",
   "execution_count": 17,
   "metadata": {},
   "outputs": [],
   "source": [
    "oc = flopy.modflow.ModflowOc(model=m, stress_period_data=spd, compact=True)"
   ]
  },
  {
   "cell_type": "markdown",
   "metadata": {},
   "source": [
    " <a name=\"VI\"></a> \n",
    "## VI. MODFLOW PCG Package\n",
    "\n",
    "Attaching the PCG Package to a MODFLOW model, tells MODFLOW to use the Preconditioned Conjugate Gradient Package to solve the finite difference equation. Seeing as this model is steady-state in a very simple domain, the PCG package should have little trouble solving the groundwater flow equation with its default settings. However, MODFLOW has numerous other solver packages (Newton-Raphson (NWT), Direct Solver (DE4), Strongly Implicit Procedure (SIP), etc) that may be applicable to other models. Additionally, you may want to tweak the solving criterion depending on your model. If you are interested in the nitty gritty of these methods, the MODFLOW-2005 manual is a good resource: https://pubs.usgs.gov/tm/2005/tm6A16/PDF/TM6A16.pdf. \n",
    "\n",
    "Additionally, MODFLOW online describes these solvers: https://water.usgs.gov/ogw/modflow/MODFLOW-2005-Guide/index.html?oc.htm\n",
    "\n",
    "And Flopy documents its communication with the PCG MODFLOW package:\n",
    "http://modflowpy.github.io/flopydoc/mfpcg.html\n"
   ]
  },
  {
   "cell_type": "markdown",
   "metadata": {},
   "source": [
    "### Define PCG Object\n",
    "\n",
    "Here we will create the flopy pcg object, with its default solver settings, which will be used to create the MODFLOW PCG package."
   ]
  },
  {
   "cell_type": "code",
   "execution_count": 18,
   "metadata": {},
   "outputs": [],
   "source": [
    "pcg = flopy.modflow.ModflowPcg(model=m)"
   ]
  },
  {
   "cell_type": "markdown",
   "metadata": {},
   "source": [
    " <a name=\"VII\"></a> \n",
    "## VII. Write MODFLOW Input Files\n",
    "\n",
    "Now that we have created all the FloPy objects for the packages we wish to attach to our model (dis, bas, lpf, oc, and pcg), we can use FloPy to write the MODFLOW input files for our MODFLOW executable to read. This is done simply with:"
   ]
  },
  {
   "cell_type": "code",
   "execution_count": 19,
   "metadata": {},
   "outputs": [],
   "source": [
    "#write MODFLOW input files\n",
    "m.write_input()"
   ]
  },
  {
   "cell_type": "markdown",
   "metadata": {},
   "source": [
    "FloPy should have created 6 new files in your working directory that look something like:\n",
    "\n",
    "<img src=\"https://i.imgur.com/AjODHeO.png\" title=\"modflow_files\" /></a>\n",
    "\n",
    "The file to pay attention to is the \"my_model.nam\" file. This file governs which packages will be attached to your MODFLOW file. Inside the name file it will list all the packages to be attached to your model as well as specify that BINARY DATA files that it will write as an output. (my_model.hds, my_model.cbc)\n",
    "\n",
    "<img src=\"https://i.imgur.com/8KOHV9T.png\" title=\"nam_file\" /></a>\n",
    "\n",
    "Another file to pay attention to, post run, is the LIST file. This will have additional information on how the packages are attached to your model as well as MODFLOW mass-balance budgets during the model run. "
   ]
  },
  {
   "cell_type": "markdown",
   "metadata": {},
   "source": [
    " <a name=\"VIII\"></a> \n",
    "## VIII. Run MODFLOW Model\n",
    "\n",
    "We can now run the MODFLOW model with the packages specified in the .nam file using the executable specified in the definition of our flopy model 'm':"
   ]
  },
  {
   "cell_type": "code",
   "execution_count": 20,
   "metadata": {},
   "outputs": [
    {
     "name": "stdout",
     "output_type": "stream",
     "text": [
      "FloPy is using the following  executable to run the model: /Applications/MODFLOW/mf2005\n",
      "\n",
      "                                  MODFLOW-2005     \n",
      "    U.S. GEOLOGICAL SURVEY MODULAR FINITE-DIFFERENCE GROUND-WATER FLOW MODEL\n",
      "                             Version 1.12.00 2/3/2017                        \n",
      "\n",
      " Using NAME file: my_testmodel.nam \n",
      " Run start date and time (yyyy/mm/dd hh:mm:ss): 2020/01/23 12:22:02\n",
      "\n",
      " Solving:  Stress period:     1    Time step:     1    Ground-Water Flow Eqn.\n",
      " Run end date and time (yyyy/mm/dd hh:mm:ss): 2020/01/23 12:22:02\n",
      " Elapsed run time:  0.007 Seconds\n",
      "\n",
      "  Normal termination of simulation\n"
     ]
    }
   ],
   "source": [
    "# Run the model\n",
    "success, mfoutput = m.run_model(pause=False, report=True)\n",
    "if not success:\n",
    "    raise Exception('MODFLOW did not terminate normally.')"
   ]
  },
  {
   "cell_type": "markdown",
   "metadata": {},
   "source": [
    "If the run was successful, you should have seen a window reporting the run time data. "
   ]
  },
  {
   "cell_type": "markdown",
   "metadata": {},
   "source": [
    " <a name=\"IX\"></a> \n",
    "## IX. Read Head/Flow Data\n",
    "\n",
    "We will now make use of FloPy's binary file reader and plotting capabilities to read and display the model output."
   ]
  },
  {
   "cell_type": "markdown",
   "metadata": {},
   "source": [
    "### Read Head Data\n",
    "\n",
    "Head data from the my_model.hds file will be stored as a FloPy head object."
   ]
  },
  {
   "cell_type": "code",
   "execution_count": 21,
   "metadata": {},
   "outputs": [
    {
     "name": "stdout",
     "output_type": "stream",
     "text": [
      "flopy head object: \n",
      " <flopy.utils.binaryfile.HeadFile object at 0x7fbcc8589310>\n"
     ]
    }
   ],
   "source": [
    "#extract binary data from head file as flopy head object\n",
    "headobj = flopy.utils.binaryfile.HeadFile(modelname+'.hds')\n",
    "\n",
    "print(\"flopy head object: \\n\", headobj)"
   ]
  },
  {
   "cell_type": "markdown",
   "metadata": {},
   "source": [
    "This head object has different attributes that can be extracted from it such as the times used in the model run, head data, databytes and more. For information on how to access these functions see: http://modflowpy.github.io/flopydoc/binaryfile.html\n",
    "\n",
    "For this model, we will extract the head data after our single stress period (totim=1.0)."
   ]
  },
  {
   "cell_type": "code",
   "execution_count": 22,
   "metadata": {},
   "outputs": [],
   "source": [
    "#extract head data from head object\n",
    "head = headobj.get_data(totim=1.0)"
   ]
  },
  {
   "cell_type": "code",
   "execution_count": 23,
   "metadata": {},
   "outputs": [
    {
     "data": {
      "text/plain": [
       "array([[[10.       ,  8.888889 ,  7.7777777,  6.6666665,  5.5555553,\n",
       "          4.4444447,  3.3333333,  2.2222223,  1.1111112,  0.       ],\n",
       "        [10.       ,  8.888889 ,  7.7777777,  6.6666665,  5.5555553,\n",
       "          4.4444447,  3.3333333,  2.2222223,  1.1111112,  0.       ],\n",
       "        [10.       ,  8.888889 ,  7.7777777,  6.6666665,  5.5555553,\n",
       "          4.4444447,  3.3333333,  2.2222223,  1.1111112,  0.       ],\n",
       "        [10.       ,  8.888889 ,  7.7777777,  6.6666665,  5.5555553,\n",
       "          4.4444447,  3.3333333,  2.2222223,  1.1111112,  0.       ],\n",
       "        [10.       ,  8.888889 ,  7.7777777,  6.6666665,  5.5555553,\n",
       "          4.4444447,  3.3333333,  2.2222223,  1.1111112,  0.       ],\n",
       "        [10.       ,  8.888889 ,  7.7777777,  6.6666665,  5.5555553,\n",
       "          4.4444447,  3.3333333,  2.2222223,  1.1111112,  0.       ],\n",
       "        [10.       ,  8.888889 ,  7.7777777,  6.6666665,  5.5555553,\n",
       "          4.4444447,  3.3333333,  2.2222223,  1.1111112,  0.       ],\n",
       "        [10.       ,  8.888889 ,  7.7777777,  6.6666665,  5.5555553,\n",
       "          4.4444447,  3.3333333,  2.2222223,  1.1111112,  0.       ],\n",
       "        [10.       ,  8.888889 ,  7.7777777,  6.6666665,  5.5555553,\n",
       "          4.4444447,  3.3333333,  2.2222223,  1.1111112,  0.       ],\n",
       "        [10.       ,  8.888889 ,  7.7777777,  6.6666665,  5.5555553,\n",
       "          4.4444447,  3.3333333,  2.2222223,  1.1111112,  0.       ]]],\n",
       "      dtype=float32)"
      ]
     },
     "execution_count": 23,
     "metadata": {},
     "output_type": "execute_result"
    }
   ],
   "source": [
    "head"
   ]
  },
  {
   "cell_type": "markdown",
   "metadata": {},
   "source": [
    "### Read Flow Data\n",
    "\n",
    "FloPy's binary budget data reader will be used to read in the budget data from my_model.cbc as a flopy budget object. (See: http://modflowpy.github.io/flopydoc/binaryfile.html#flopy.utils.binaryfile.CellBudgetFile for more info)"
   ]
  },
  {
   "cell_type": "code",
   "execution_count": 23,
   "metadata": {},
   "outputs": [
    {
     "name": "stdout",
     "output_type": "stream",
     "text": [
      "flopy budget object: \n",
      " <flopy.utils.binaryfile.CellBudgetFile object at 0x7fbd084e00d0>\n"
     ]
    }
   ],
   "source": [
    "#extract binary data from budget file as flopy budget object\n",
    "budgobj = flopy.utils.binaryfile.CellBudgetFile(modelname+'.cbc')\n",
    "\n",
    "print(\"flopy budget object: \\n\", budgobj)"
   ]
  },
  {
   "cell_type": "markdown",
   "metadata": {},
   "source": [
    "We can now extract the data from this by passing a string in the CellBudgetFile function's \"text\" argument to call which part of the data we want to get. Here we will access the flow data for the right face  and front face of each grid cell and save the data as variables 'frf' and 'fff' which are output as arrays."
   ]
  },
  {
   "cell_type": "code",
   "execution_count": 24,
   "metadata": {},
   "outputs": [
    {
     "name": "stdout",
     "output_type": "stream",
     "text": [
      "Flow through Right Face of Grid Cells m^3/d \n",
      " [array([[[277.77777, 277.7778 , 277.7778 , 277.7778 , 277.7778 ,\n",
      "         277.7778 , 277.7778 , 277.7778 , 277.7778 ,   0.     ],\n",
      "        [277.7778 , 277.7778 , 277.7778 , 277.7778 , 277.7778 ,\n",
      "         277.7778 , 277.7778 , 277.7778 , 277.7778 ,   0.     ],\n",
      "        [277.7778 , 277.7778 , 277.7778 , 277.7778 , 277.7778 ,\n",
      "         277.7778 , 277.7778 , 277.7778 , 277.7778 ,   0.     ],\n",
      "        [277.7778 , 277.7778 , 277.7778 , 277.7778 , 277.7778 ,\n",
      "         277.7778 , 277.7778 , 277.7778 , 277.77777,   0.     ],\n",
      "        [277.77777, 277.7778 , 277.7778 , 277.7778 , 277.7778 ,\n",
      "         277.7778 , 277.7778 , 277.7778 , 277.77777,   0.     ],\n",
      "        [277.7778 , 277.7778 , 277.7778 , 277.7778 , 277.7778 ,\n",
      "         277.7778 , 277.7778 , 277.7778 , 277.7778 ,   0.     ],\n",
      "        [277.77777, 277.7778 , 277.7778 , 277.7778 , 277.7778 ,\n",
      "         277.7778 , 277.7778 , 277.7778 , 277.7778 ,   0.     ],\n",
      "        [277.7778 , 277.7778 , 277.7778 , 277.7778 , 277.7778 ,\n",
      "         277.7778 , 277.7778 , 277.7778 , 277.7778 ,   0.     ],\n",
      "        [277.77777, 277.7778 , 277.7778 , 277.7778 , 277.7778 ,\n",
      "         277.7778 , 277.7778 , 277.7778 , 277.7778 ,   0.     ],\n",
      "        [277.7778 , 277.7778 , 277.7778 , 277.7778 , 277.7778 ,\n",
      "         277.7778 , 277.7778 , 277.7778 , 277.7778 ,   0.     ]]],\n",
      "      dtype=float32)] \n",
      " Flow through Front Face of Grid Cells m^3/d \n",
      " [array([[[ 0.00000000e+00,  1.24265046e-06, -1.16814135e-06,\n",
      "         -1.46819286e-06, -1.16927072e-06, -3.76019443e-07,\n",
      "         -1.99261720e-07,  7.28079783e-08,  2.24470227e-06,\n",
      "          0.00000000e+00],\n",
      "        [ 0.00000000e+00, -3.25823379e-07, -8.34945467e-07,\n",
      "         -4.67615507e-07, -1.08729914e-07,  4.09226431e-07,\n",
      "          1.65519521e-06,  2.08828783e-06,  3.29112140e-07,\n",
      "          0.00000000e+00],\n",
      "        [ 0.00000000e+00,  2.84829937e-08, -9.18468629e-07,\n",
      "         -8.72233841e-07, -7.95614710e-07, -7.60982857e-07,\n",
      "          9.36803985e-08,  6.84514873e-07,  8.75715102e-07,\n",
      "          0.00000000e+00],\n",
      "        [ 0.00000000e+00, -9.80656864e-07, -2.06329403e-07,\n",
      "         -4.94038375e-07, -6.03139313e-07, -9.34284230e-07,\n",
      "         -1.00188856e-06, -2.60261260e-07, -1.89950001e-07,\n",
      "          0.00000000e+00],\n",
      "        [ 0.00000000e+00,  3.15691921e-07,  5.81326098e-08,\n",
      "         -3.67241810e-08, -1.99545497e-07, -1.00485174e-07,\n",
      "         -1.89255829e-07, -2.35944597e-07, -1.68763677e-07,\n",
      "          0.00000000e+00],\n",
      "        [ 0.00000000e+00, -4.17948797e-07,  2.28765003e-07,\n",
      "          1.40176098e-07,  3.16711102e-08, -2.41781720e-07,\n",
      "         -6.42090697e-07, -7.39685959e-07, -3.81000291e-07,\n",
      "          0.00000000e+00],\n",
      "        [ 0.00000000e+00,  1.14597003e-06, -2.63893355e-07,\n",
      "         -4.92123661e-07, -1.42556630e-07, -2.58296041e-07,\n",
      "         -7.78281787e-07, -1.00362570e-06, -3.91419633e-07,\n",
      "          0.00000000e+00],\n",
      "        [ 0.00000000e+00, -1.09261396e-06,  7.89635024e-08,\n",
      "          1.19773080e-08, -4.26004334e-07, -5.58581178e-07,\n",
      "         -7.22600532e-07, -7.71710461e-07, -5.85777343e-07,\n",
      "          0.00000000e+00],\n",
      "        [ 0.00000000e+00,  3.21302082e-07,  5.34705407e-07,\n",
      "          7.34847958e-07,  2.44491531e-07, -5.09126323e-07,\n",
      "         -4.07923807e-07, -1.66987526e-08,  6.28449541e-08,\n",
      "          0.00000000e+00],\n",
      "        [ 0.00000000e+00,  0.00000000e+00,  0.00000000e+00,\n",
      "          0.00000000e+00,  0.00000000e+00,  0.00000000e+00,\n",
      "          0.00000000e+00,  0.00000000e+00,  0.00000000e+00,\n",
      "          0.00000000e+00]]], dtype=float32)]\n"
     ]
    }
   ],
   "source": [
    "frf = budgobj.get_data(text='flow right face', totim=1.0)\n",
    "fff = budgobj.get_data(text='flow front face', totim=1.0)\n",
    "\n",
    "print(\"Flow through Right Face of Grid Cells m^3/d \\n\", frf,\n",
    "     \"\\n Flow through Front Face of Grid Cells m^3/d \\n\", fff)"
   ]
  },
  {
   "cell_type": "markdown",
   "metadata": {},
   "source": [
    "Here, it is good to check if results seem reasonable; for this steady-state model, it makes sense that  we see a constant value in the \"Flow Right Face\" output array as the higher head on the left side of the model induces flow from left to right. The \"Flow Front Face\" array, has very small positive and negative values in it, suggesting that there are potential numerical oscillations in our solution. However, these fluctuations are so small that the output may still be appropriate depending on the application/precision we are looking for. "
   ]
  },
  {
   "cell_type": "markdown",
   "metadata": {},
   "source": [
    " <a name=\"X\"></a> \n",
    "## X. Plotting"
   ]
  },
  {
   "cell_type": "code",
   "execution_count": 37,
   "metadata": {},
   "outputs": [
    {
     "data": {
      "image/png": "[encoded data removed]",
      "text/plain": [
       "<Figure size 720x720 with 2 Axes>"
      ]
     },
     "metadata": {
      "needs_background": "light"
     },
     "output_type": "display_data"
    }
   ],
   "source": [
    "#plot results\n",
    "plt.figure(figsize=(10,10)) #create 10 x 10 figure\n",
    "modelmap = flopy.plot.PlotMapView(model=m, layer=0) #use modelmap to attach plot to model\n",
    "grid = modelmap.plot_grid() #plot model grid\n",
    "contour_levels = np.linspace(head[0].min(),head[0].max(),11) #set contour levels for contouring head\n",
    "head_contours = modelmap.contour_array(head, levels=contour_levels) #create head contours\n",
    "flows = modelmap.plot_discharge(frf[0], fff[0], head=head) #create discharge arrows\n",
    "\n",
    "#display parameters\n",
    "plt.xlabel('Lx (m)',fontsize = 14)\n",
    "plt.ylabel('Ly (m)',fontsize = 14)\n",
    "plt.title('Steady-State Model, Flow(m^3/d) and Head(m) Results', fontsize = 15, fontweight = 'bold')\n",
    "plt.colorbar(head_contours,aspect=5)\n",
    "plt.show(modelmap)"
   ]
  },
  {
   "cell_type": "markdown",
   "metadata": {},
   "source": [
    "### 3D Surface Plot \n",
    "\n",
    "<strong> Note: </strong> This is not part of flopy's plotting, and uses a matplotlib function from a 3d projection toolkit. Flopy takes cell indexing where the top left of the grid is the (0,0) cell index while the Length & Width units start at 0 in the lower left of the grid. This seems a little wierd, but it makes it easy to match up an array of cell by cell numbers to their respective locations on the grid when assigning properties or observing output data. Flopy's plotting functions automatically flip the resultant head data to display on its proper grid, however, for the 3d plots below, you'll see the function np.flipud() is used to flip the data array to plot in the same direction."
   ]
  },
  {
   "cell_type": "code",
   "execution_count": 38,
   "metadata": {
    "scrolled": true
   },
   "outputs": [
    {
     "data": {
      "image/png": "[encoded data removed]",
      "text/plain": [
       "<Figure size 864x360 with 2 Axes>"
      ]
     },
     "metadata": {
      "needs_background": "light"
     },
     "output_type": "display_data"
    }
   ],
   "source": [
    "#import 3d axes toolkit from matplotlib\n",
    "from mpl_toolkits.mplot3d import Axes3D\n",
    "\n",
    "#create 3d figure\n",
    "fig_3d = plt.figure(figsize=(12,5))\n",
    "ax = fig_3d.gca(projection='3d')\n",
    "\n",
    "#set X, Y, Z variables for 3d plot to be our model domain and head solution\n",
    "X = np.arange(0,Lx,dx)\n",
    "Y = np.arange(0,Ly,dy)\n",
    "X, Y = np.meshgrid(X, Y)\n",
    "Z = np.flipud(head[0])\n",
    "\n",
    "#create surface and labels\n",
    "surf = ax.plot_surface(X,Y,Z, cmap = 'viridis', linewidth=0, label='head')\n",
    "fig_3d.colorbar(surf,shrink=0.5,aspect=5).set_label('Head (m)',fontsize=10,fontweight='bold')\n",
    "ax.set_xlabel('Lx (m)', fontsize=15, fontweight='bold')\n",
    "ax.set_ylabel('Ly (m)', fontsize=15, fontweight='bold')\n",
    "ax.set_title('Steady-State Model Head Profile', fontsize=15, fontweight='bold')\n",
    "plt.show(surf)"
   ]
  },
  {
   "cell_type": "markdown",
   "metadata": {},
   "source": [
    "Congratulations! You just used FloPy to run a single-layer, steady-state model in MODFLOW-2005! \n",
    "\n",
    "<strong>Activity:</strong> Try going back to where we defined the starting heads in the LPF package and changing the left and right boundary conditions. How does the head surface change?\n",
    "\n",
    "What happens if you add another row of constant head cells to the model by modifying the IBOUND variable and set those to a different value of starting heads?"
   ]
  }
 ],
 "metadata": {
  "kernelspec": {
   "display_name": "Python 3",
   "language": "python",
   "name": "python3"
  },
  "language_info": {
   "codemirror_mode": {
    "name": "ipython",
    "version": 3
   },
   "file_extension": ".py",
   "mimetype": "text/x-python",
   "name": "python",
   "nbconvert_exporter": "python",
   "pygments_lexer": "ipython3",
   "version": "3.7.4"
  }
 },
 "nbformat": 4,
 "nbformat_minor": 1
}
